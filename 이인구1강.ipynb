{
  "nbformat": 4,
  "nbformat_minor": 0,
  "metadata": {
    "colab": {
      "provenance": [],
      "collapsed_sections": [],
      "authorship_tag": "ABX9TyMHmJsHGSqPT7mFKMMoV2ZV",
      "include_colab_link": true
    },
    "kernelspec": {
      "name": "python3",
      "display_name": "Python 3"
    },
    "language_info": {
      "name": "python"
    }
  },
  "cells": [
    {
      "cell_type": "markdown",
      "metadata": {
        "id": "view-in-github",
        "colab_type": "text"
      },
      "source": [
        "<a href=\"https://colab.research.google.com/github/lyngoo/lyn/blob/main/%EC%9D%B4%EC%9D%B8%EA%B5%AC1%EA%B0%95.ipynb\" target=\"_parent\"><img src=\"https://colab.research.google.com/assets/colab-badge.svg\" alt=\"Open In Colab\"/></a>"
      ]
    },
    {
      "cell_type": "code",
      "source": [
        "def greet():\n",
        "  print(\"hellow world\")\n",
        "greet"
      ],
      "metadata": {
        "id": "1Ldit4XWEXig",
        "colab": {
          "base_uri": "https://localhost:8080/"
        },
        "outputId": "761113d2-e153-407a-a578-b9c048eb7801"
      },
      "execution_count": null,
      "outputs": [
        {
          "output_type": "execute_result",
          "data": {
            "text/plain": [
              "<function __main__.greet()>"
            ]
          },
          "metadata": {},
          "execution_count": 11
        }
      ]
    },
    {
      "cell_type": "code",
      "source": [
        "def add(a,b):\n",
        "  c=a+b\n",
        "  return c\n",
        "  "
      ],
      "metadata": {
        "id": "zi8sfhNQEuRl"
      },
      "execution_count": null,
      "outputs": []
    },
    {
      "cell_type": "code",
      "source": [
        "def greet2(name):\n",
        "  print('반갑습니다' , name,'님')\n",
        "  print(name, '님은 파이썬의 세계로 오셨습니다')\n",
        "greet2('이인구')    "
      ],
      "metadata": {
        "colab": {
          "base_uri": "https://localhost:8080/"
        },
        "id": "SsDCFkA4FMjk",
        "outputId": "2cea688d-f11e-4dd7-e817-33d127557d68"
      },
      "execution_count": null,
      "outputs": [
        {
          "output_type": "stream",
          "name": "stdout",
          "text": [
            "반갑습니다 이인구 님\n",
            "이인구 님은 파이썬의 세계로 오셨습니다\n"
          ]
        }
      ]
    },
    {
      "cell_type": "code",
      "source": [
        "def greet2(name):\n",
        "  print('반갑습니다' , name,'님')\n",
        "  print(name, '님은 파이썬의 세계로 오셨습니다')\n",
        "inputName='이인구'\n",
        "greet2(inputName)"
      ],
      "metadata": {
        "colab": {
          "base_uri": "https://localhost:8080/"
        },
        "id": "bjEu8ix-GN_k",
        "outputId": "32939c2b-960d-45b6-82d7-a455e1bc4d02"
      },
      "execution_count": null,
      "outputs": [
        {
          "output_type": "stream",
          "name": "stdout",
          "text": [
            "반갑습니다 이인구 님\n",
            "이인구 님은 파이썬의 세계로 오셨습니다\n"
          ]
        }
      ]
    },
    {
      "cell_type": "code",
      "source": [
        "def adder(num1, num2):\n",
        "  sum=num1+num2\n",
        "  print('덧셈결과:',num1+num2)\n",
        "adder(101,118)\n"
      ],
      "metadata": {
        "colab": {
          "base_uri": "https://localhost:8080/"
        },
        "id": "ZD2lCAdqGpzT",
        "outputId": "36d3f52d-83df-428a-e364-fb44bffb41fb"
      },
      "execution_count": null,
      "outputs": [
        {
          "output_type": "stream",
          "name": "stdout",
          "text": [
            "덧셈결과: 219\n"
          ]
        }
      ]
    },
    {
      "cell_type": "code",
      "source": [
        "def adder(num1, num2):\n",
        "  sum=num1+num2\n",
        "  return sum\n",
        "result=adder(101,118)\n",
        "print(result) "
      ],
      "metadata": {
        "colab": {
          "base_uri": "https://localhost:8080/"
        },
        "id": "HymzqQPZHdgD",
        "outputId": "d1537f8c-7383-4a23-e944-0931bda32ff0"
      },
      "execution_count": null,
      "outputs": [
        {
          "output_type": "stream",
          "name": "stdout",
          "text": [
            "219\n"
          ]
        }
      ]
    },
    {
      "cell_type": "code",
      "source": [
        "def adder(num1, num2):\n",
        "  sum=num1+num2\n",
        "  return sum\n",
        "def main():\n",
        "  print(adder(5,3))\n",
        "main()"
      ],
      "metadata": {
        "colab": {
          "base_uri": "https://localhost:8080/"
        },
        "id": "dgM2Ti6hI2Yj",
        "outputId": "5dab01e1-6663-4511-9f3d-2255aa4cd373"
      },
      "execution_count": null,
      "outputs": [
        {
          "output_type": "stream",
          "name": "stdout",
          "text": [
            "8\n"
          ]
        }
      ]
    },
    {
      "cell_type": "code",
      "source": [
        "max(2, 3, 4)"
      ],
      "metadata": {
        "colab": {
          "base_uri": "https://localhost:8080/"
        },
        "id": "YRIhXv9_Ks_r",
        "outputId": "5ea376f6-e208-4d9f-aca9-43f4c158f8a1"
      },
      "execution_count": null,
      "outputs": [
        {
          "output_type": "execute_result",
          "data": {
            "text/plain": [
              "4"
            ]
          },
          "metadata": {},
          "execution_count": 52
        }
      ]
    },
    {
      "cell_type": "code",
      "source": [
        "min(2,3,4,)"
      ],
      "metadata": {
        "colab": {
          "base_uri": "https://localhost:8080/"
        },
        "id": "rM_vccRMLIBi",
        "outputId": "1e5ea680-7fc7-48a1-b623-65bb44ec51c3"
      },
      "execution_count": null,
      "outputs": [
        {
          "output_type": "execute_result",
          "data": {
            "text/plain": [
              "2"
            ]
          },
          "metadata": {},
          "execution_count": 53
        }
      ]
    },
    {
      "cell_type": "code",
      "source": [
        "round(3.51)"
      ],
      "metadata": {
        "colab": {
          "base_uri": "https://localhost:8080/"
        },
        "id": "7QS59F7wLJOy",
        "outputId": "79078f5d-2dd5-40c5-f3a6-f45e23abfc44"
      },
      "execution_count": null,
      "outputs": [
        {
          "output_type": "execute_result",
          "data": {
            "text/plain": [
              "4"
            ]
          },
          "metadata": {},
          "execution_count": 54
        }
      ]
    },
    {
      "cell_type": "code",
      "source": [
        "round(3.4)"
      ],
      "metadata": {
        "colab": {
          "base_uri": "https://localhost:8080/"
        },
        "id": "NNy5f08YLK_S",
        "outputId": "66a6b745-0c7b-4aa5-cf6e-1f9caca761fe"
      },
      "execution_count": null,
      "outputs": [
        {
          "output_type": "execute_result",
          "data": {
            "text/plain": [
              "3"
            ]
          },
          "metadata": {},
          "execution_count": 55
        }
      ]
    },
    {
      "cell_type": "code",
      "source": [
        "abs(-3)"
      ],
      "metadata": {
        "colab": {
          "base_uri": "https://localhost:8080/"
        },
        "id": "A6Wtmrk4LMEK",
        "outputId": "874e6225-8de1-41d1-a416-07af7c1e79b4"
      },
      "execution_count": null,
      "outputs": [
        {
          "output_type": "execute_result",
          "data": {
            "text/plain": [
              "3"
            ]
          },
          "metadata": {},
          "execution_count": 56
        }
      ]
    },
    {
      "cell_type": "code",
      "source": [
        "pow(2,3)"
      ],
      "metadata": {
        "colab": {
          "base_uri": "https://localhost:8080/"
        },
        "id": "e_F0WS5zLNdq",
        "outputId": "3fd8d1ea-bffd-43a6-912b-1bae6342f929"
      },
      "execution_count": null,
      "outputs": [
        {
          "output_type": "execute_result",
          "data": {
            "text/plain": [
              "8"
            ]
          },
          "metadata": {},
          "execution_count": 59
        }
      ]
    },
    {
      "cell_type": "code",
      "source": [
        "10%3"
      ],
      "metadata": {
        "colab": {
          "base_uri": "https://localhost:8080/"
        },
        "id": "d07fa-T9LgcT",
        "outputId": "d3b4985b-1799-4155-ff65-d17de8340112"
      },
      "execution_count": null,
      "outputs": [
        {
          "output_type": "execute_result",
          "data": {
            "text/plain": [
              "1"
            ]
          },
          "metadata": {},
          "execution_count": 61
        }
      ]
    },
    {
      "cell_type": "code",
      "source": [
        "result=eval(input(\"뭐든 넣어요:\"))\n"
      ],
      "metadata": {
        "colab": {
          "base_uri": "https://localhost:8080/"
        },
        "id": "Ol1VroZdLi-i",
        "outputId": "728940e9-d752-4b67-e83d-db87389671c2"
      },
      "execution_count": null,
      "outputs": [
        {
          "name": "stdout",
          "output_type": "stream",
          "text": [
            "뭐든 넣어요:4-3*5\n"
          ]
        }
      ]
    },
    {
      "cell_type": "code",
      "source": [
        "result"
      ],
      "metadata": {
        "colab": {
          "base_uri": "https://localhost:8080/"
        },
        "id": "UWcxKI-QL5rB",
        "outputId": "0f484df6-4176-4bc7-8928-3cadc32967d5"
      },
      "execution_count": null,
      "outputs": [
        {
          "output_type": "execute_result",
          "data": {
            "text/plain": [
              "-11"
            ]
          },
          "metadata": {},
          "execution_count": 67
        }
      ]
    },
    {
      "cell_type": "code",
      "source": [
        "def ret():\n",
        "  return 12\n",
        "result=eval(input(\"뭐든 넣어요:\"))#수식을 넣을"
      ],
      "metadata": {
        "id": "86eyHJlBMYoC",
        "colab": {
          "base_uri": "https://localhost:8080/"
        },
        "outputId": "a4625ac8-d89b-4375-a6e9-cfe1da12d904"
      },
      "execution_count": 2,
      "outputs": [
        {
          "name": "stdout",
          "output_type": "stream",
          "text": [
            "뭐든 넣어요:ret()\n"
          ]
        }
      ]
    },
    {
      "cell_type": "code",
      "source": [
        "print(result)"
      ],
      "metadata": {
        "colab": {
          "base_uri": "https://localhost:8080/"
        },
        "id": "vdZ9azoUMi6C",
        "outputId": "d179f8e8-0e65-441b-d345-4a6beed865bd"
      },
      "execution_count": 3,
      "outputs": [
        {
          "output_type": "stream",
          "name": "stdout",
          "text": [
            "12\n"
          ]
        }
      ]
    },
    {
      "cell_type": "code",
      "source": [],
      "metadata": {
        "colab": {
          "base_uri": "https://localhost:8080/"
        },
        "id": "J5vkBgNgMtZy",
        "outputId": "ba3eb2e3-4a84-4153-9878-42441f93cb2b"
      },
      "execution_count": null,
      "outputs": [
        {
          "output_type": "stream",
          "name": "stdout",
          "text": [
            "24\n"
          ]
        }
      ]
    },
    {
      "cell_type": "code",
      "source": [
        "def greet_three_times():\n",
        "  print('hi')\n",
        "  print('hi')\n",
        "  print('hi')\n",
        "\n",
        "greet_three_times()\n"
      ],
      "metadata": {
        "colab": {
          "base_uri": "https://localhost:8080/"
        },
        "id": "q5utQM2CC4xt",
        "outputId": "b5b74602-b205-4415-e63d-ac46cfcf9319"
      },
      "execution_count": null,
      "outputs": [
        {
          "output_type": "stream",
          "name": "stdout",
          "text": [
            "hi\n",
            "hi\n",
            "hi\n"
          ]
        }
      ]
    },
    {
      "cell_type": "code",
      "source": [
        "def greet_10(num):\n",
        "  if(num>0):\n",
        "    print('hi')\n",
        "    num=num-1\n",
        "    greet_10(num)"
      ],
      "metadata": {
        "id": "-Yl6-RjoEyR-"
      },
      "execution_count": null,
      "outputs": []
    },
    {
      "cell_type": "code",
      "source": [
        "greet_10(3)"
      ],
      "metadata": {
        "colab": {
          "base_uri": "https://localhost:8080/"
        },
        "id": "Y_W-vwyeDijM",
        "outputId": "f3de6081-a1a7-48e6-8e63-b75187de863d"
      },
      "execution_count": null,
      "outputs": [
        {
          "output_type": "stream",
          "name": "stdout",
          "text": [
            "hi\n",
            "hi\n",
            "hi\n"
          ]
        }
      ]
    },
    {
      "cell_type": "code",
      "source": [
        "sum=0\n",
        " \n",
        "for i in range(1,11):\n",
        "  sum=sum+i\n",
        "\n",
        "sum "
      ],
      "metadata": {
        "colab": {
          "base_uri": "https://localhost:8080/"
        },
        "id": "O_qU4dHYFes0",
        "outputId": "380d2343-de5a-435e-94bf-76ad6408776d"
      },
      "execution_count": null,
      "outputs": [
        {
          "output_type": "execute_result",
          "data": {
            "text/plain": [
              "55"
            ]
          },
          "metadata": {},
          "execution_count": 45
        }
      ]
    },
    {
      "cell_type": "code",
      "source": [
        "import random\n",
        "\n",
        "NUMBER_OF_TRIALS=5000000\n",
        "numberofHits=0\n",
        "\n",
        "for i in range(NUMBER_OF_TRIALS):\n",
        "  x=random.random()*2-1\n",
        "  y=random.random()*2-1\n",
        "\n",
        "  if x*x+y*y<=1:\n",
        "    numberofHits+=1\n",
        "\n",
        "pi = 4 *numberofHits / NUMBER_OF_TRIALS\n",
        "\n",
        "print(\"PI는\", pi, \"입니다.\")  "
      ],
      "metadata": {
        "colab": {
          "base_uri": "https://localhost:8080/"
        },
        "id": "l1qpDH7XFriL",
        "outputId": "9dc3c788-556c-41a6-883e-c9c3d3bbf662"
      },
      "execution_count": null,
      "outputs": [
        {
          "output_type": "stream",
          "name": "stdout",
          "text": [
            "PI는 3.1402648 입니다.\n"
          ]
        }
      ]
    },
    {
      "cell_type": "code",
      "source": [
        "count=0\n",
        "while count<10:\n",
        "  print(\"프로그래밍은 재밌습니다!\")\n",
        "  count=count+1"
      ],
      "metadata": {
        "colab": {
          "base_uri": "https://localhost:8080/"
        },
        "id": "0myGMFoyRf2J",
        "outputId": "a70715e1-85c3-4109-fb81-542574e778fc"
      },
      "execution_count": null,
      "outputs": [
        {
          "output_type": "stream",
          "name": "stdout",
          "text": [
            "프로그래밍은 재밌습니다!\n",
            "프로그래밍은 재밌습니다!\n",
            "프로그래밍은 재밌습니다!\n",
            "프로그래밍은 재밌습니다!\n",
            "프로그래밍은 재밌습니다!\n",
            "프로그래밍은 재밌습니다!\n",
            "프로그래밍은 재밌습니다!\n",
            "프로그래밍은 재밌습니다!\n",
            "프로그래밍은 재밌습니다!\n",
            "프로그래밍은 재밌습니다!\n"
          ]
        }
      ]
    },
    {
      "cell_type": "code",
      "source": [
        "import random\n",
        "\n",
        "NUMBER_OF_TRIALS=5000000\n",
        "numberofHits=0\n",
        "i=0\n",
        "while (i<NUMBER_OF_TRIALS):\n",
        "  x=random.random()*2-1\n",
        "  y=random.random()*2-1\n",
        "\n",
        "  if x*x+y*y<=1:\n",
        "    numberofHits+=1\n",
        "  i=i+1\n",
        "\n",
        "pi = 4 *numberofHits / NUMBER_OF_TRIALS\n",
        "\n",
        "print(\"PI는\", pi, \"입니다.\")  \n"
      ],
      "metadata": {
        "colab": {
          "base_uri": "https://localhost:8080/"
        },
        "id": "pc0Faur9R6gX",
        "outputId": "94ea42d6-dfc2-404b-eeef-5b726df82fdf"
      },
      "execution_count": null,
      "outputs": [
        {
          "output_type": "stream",
          "name": "stdout",
          "text": [
            "PI는 3.1412088 입니다.\n"
          ]
        }
      ]
    },
    {
      "cell_type": "code",
      "source": [
        "money=20000\n",
        "if money>=3000:\n",
        "  print(\"택시를 타고가라\") \n",
        "  \n",
        "else:\n",
        "    print(\"걸어가라\")"
      ],
      "metadata": {
        "colab": {
          "base_uri": "https://localhost:8080/"
        },
        "id": "RNYoU6XlSW9H",
        "outputId": "605c5181-2922-4d46-ff5d-875b955c284a"
      },
      "execution_count": null,
      "outputs": [
        {
          "output_type": "stream",
          "name": "stdout",
          "text": [
            "택시를 타고가라\n"
          ]
        }
      ]
    },
    {
      "cell_type": "code",
      "source": [
        "poket=['paper','cellphone',]#'money']\n",
        "if 'money' in poket:\n",
        "  print(\"택시를 타고가라\")\n",
        "else:\n",
        "  print(\"걸어가라\")"
      ],
      "metadata": {
        "colab": {
          "base_uri": "https://localhost:8080/"
        },
        "id": "zS6_e3BvStJg",
        "outputId": "d20c227b-87a9-492d-905e-f6f8af89e34c"
      },
      "execution_count": null,
      "outputs": [
        {
          "output_type": "stream",
          "name": "stdout",
          "text": [
            "걸어가라\n"
          ]
        }
      ]
    },
    {
      "cell_type": "code",
      "source": [
        "poket=['paper','cellphone',]#'money']\n",
        "if 'money'in poket:\n",
        "  pass\n",
        "else:\n",
        "  print(\"카드를 꺼내라\")"
      ],
      "metadata": {
        "colab": {
          "base_uri": "https://localhost:8080/"
        },
        "id": "eDnHHWKfUl4e",
        "outputId": "280dbfb8-d280-4018-8a0a-f3f45e537615"
      },
      "execution_count": null,
      "outputs": [
        {
          "output_type": "stream",
          "name": "stdout",
          "text": [
            "카드를 꺼내라\n"
          ]
        }
      ]
    },
    {
      "cell_type": "code",
      "source": [
        "poket=['paper','cellphone',]#'money']\n",
        "card=True #False\n",
        "if 'money'in poket:\n",
        "  print(\"택시를 타고가라\")\n",
        "elif card:\n",
        "   print(\"택시를 타고가라\")\n",
        "else:\n",
        "  print(\"걸어가라\")"
      ],
      "metadata": {
        "colab": {
          "base_uri": "https://localhost:8080/"
        },
        "id": "oiRbUl_8U-F4",
        "outputId": "a970c376-2ba0-4a91-ab8f-c956a104af7e"
      },
      "execution_count": null,
      "outputs": [
        {
          "output_type": "stream",
          "name": "stdout",
          "text": [
            "걸어가라\n"
          ]
        }
      ]
    },
    {
      "cell_type": "code",
      "source": [],
      "metadata": {
        "id": "oUx31OFKVOzu"
      },
      "execution_count": null,
      "outputs": []
    }
  ]
}