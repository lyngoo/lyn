{
  "nbformat": 4,
  "nbformat_minor": 0,
  "metadata": {
    "colab": {
      "provenance": [],
      "authorship_tag": "ABX9TyO5/ado8HciOu744kZ7P4aF",
      "include_colab_link": true
    },
    "kernelspec": {
      "name": "python3",
      "display_name": "Python 3"
    },
    "language_info": {
      "name": "python"
    }
  },
  "cells": [
    {
      "cell_type": "markdown",
      "metadata": {
        "id": "view-in-github",
        "colab_type": "text"
      },
      "source": [
        "<a href=\"https://colab.research.google.com/github/lyngoo/lyn/blob/main/3%EC%9E%A5%EA%B3%BC%EC%A0%9C.ipynb\" target=\"_parent\"><img src=\"https://colab.research.google.com/assets/colab-badge.svg\" alt=\"Open In Colab\"/></a>"
      ]
    },
    {
      "cell_type": "markdown",
      "source": [
        "1번\n"
      ],
      "metadata": {
        "id": "hiVkcuhHEPAf"
      }
    },
    {
      "cell_type": "code",
      "execution_count": 62,
      "metadata": {
        "id": "G_8o6taX66Sy"
      },
      "outputs": [],
      "source": [
        "\n",
        "import numpy as np\n",
        "import pandas as pd\n",
        "import matplotlib.pyplot as plt\n",
        "from sklearn.cluster import KMeans\n",
        "from sklearn.preprocessing import StandardScaler\n",
        "     \n",
        "d=np.sqrt((10-13)**2+(15-19)**2)"
      ]
    },
    {
      "cell_type": "code",
      "source": [
        "#1-1번 정답\n",
        "d"
      ],
      "metadata": {
        "colab": {
          "base_uri": "https://localhost:8080/"
        },
        "id": "TUU19qlc7aFa",
        "outputId": "5ce4df81-a478-4763-82f6-dbd28f61b64d"
      },
      "execution_count": 63,
      "outputs": [
        {
          "output_type": "execute_result",
          "data": {
            "text/plain": [
              "5.0"
            ]
          },
          "metadata": {},
          "execution_count": 63
        }
      ]
    },
    {
      "cell_type": "code",
      "source": [
        "WSS_1=3**2+d**2+4**2\n",
        "WSS_1"
      ],
      "metadata": {
        "colab": {
          "base_uri": "https://localhost:8080/"
        },
        "id": "VqSQHXMI7lqq",
        "outputId": "56ef1872-5dd7-4e4d-a80f-98eabb48f119"
      },
      "execution_count": 64,
      "outputs": [
        {
          "output_type": "execute_result",
          "data": {
            "text/plain": [
              "50.0"
            ]
          },
          "metadata": {},
          "execution_count": 64
        }
      ]
    },
    {
      "cell_type": "code",
      "source": [
        "WSS_2=4**2+4**2\n",
        "WSS_2"
      ],
      "metadata": {
        "colab": {
          "base_uri": "https://localhost:8080/"
        },
        "id": "QOvMJX1e8aX7",
        "outputId": "f89fc3f0-6cc6-4a4a-df41-afec1f03ae75"
      },
      "execution_count": 65,
      "outputs": [
        {
          "output_type": "execute_result",
          "data": {
            "text/plain": [
              "32"
            ]
          },
          "metadata": {},
          "execution_count": 65
        }
      ]
    },
    {
      "cell_type": "code",
      "source": [
        "TWSS=WSS_2+WSS_1"
      ],
      "metadata": {
        "id": "wZTnhoU28lZi"
      },
      "execution_count": 66,
      "outputs": []
    },
    {
      "cell_type": "code",
      "source": [
        "TWSS"
      ],
      "metadata": {
        "colab": {
          "base_uri": "https://localhost:8080/"
        },
        "id": "VHOX2Y8TDZWr",
        "outputId": "0019082f-c2f0-409c-b194-29012b9cdde8"
      },
      "execution_count": 67,
      "outputs": [
        {
          "output_type": "execute_result",
          "data": {
            "text/plain": [
              "82.0"
            ]
          },
          "metadata": {},
          "execution_count": 67
        }
      ]
    },
    {
      "cell_type": "code",
      "source": [
        "#1-2번 정답\n",
        "print(WSS_1)\n",
        "\n",
        "print(WSS_2)\n",
        "\n",
        "print(TWSS)"
      ],
      "metadata": {
        "colab": {
          "base_uri": "https://localhost:8080/"
        },
        "id": "RE1W8kNEDaYS",
        "outputId": "aa1936ed-cdb1-4dc0-b139-ef2089246794"
      },
      "execution_count": 68,
      "outputs": [
        {
          "output_type": "stream",
          "name": "stdout",
          "text": [
            "50.0\n",
            "32\n",
            "82.0\n"
          ]
        }
      ]
    },
    {
      "cell_type": "code",
      "source": [
        "#1-3번 k값이 4~5지점에서 엘보우 포인트가 나타나므로 군집의 수 는 4개가 적당하다"
      ],
      "metadata": {
        "id": "SGEtm5urD1ss"
      },
      "execution_count": 69,
      "outputs": []
    },
    {
      "cell_type": "markdown",
      "source": [
        "2번\n"
      ],
      "metadata": {
        "id": "C4s_DaVZEMDq"
      }
    },
    {
      "cell_type": "code",
      "source": [
        "data = np.array([[1,4],[4,2],[3,7],[6,1],[2,5]])\n",
        "data"
      ],
      "metadata": {
        "colab": {
          "base_uri": "https://localhost:8080/"
        },
        "id": "8dZ19EleED9c",
        "outputId": "95936937-3975-4f63-fdf3-491cb10f6b74"
      },
      "execution_count": 70,
      "outputs": [
        {
          "output_type": "execute_result",
          "data": {
            "text/plain": [
              "array([[1, 4],\n",
              "       [4, 2],\n",
              "       [3, 7],\n",
              "       [6, 1],\n",
              "       [2, 5]])"
            ]
          },
          "metadata": {},
          "execution_count": 70
        }
      ]
    },
    {
      "cell_type": "code",
      "source": [
        "# 원데이터의 X, Y의 산포도  \n",
        "plt.scatter(data[:,0], data[:,1])\n",
        "plt.xlabel('X')\n",
        "plt.ylabel('Y')\n",
        "plt.xlim(0, 8)\n",
        "plt.ylim(0, 10)\n",
        "\n",
        "# 행과 열의 수 \n",
        "rows, columns = data.shape\n",
        "# 데이터 라벨 \n",
        "for i in range(rows):\n",
        "  plt.annotate(i+1, (data[i,0], data[i,1]))"
      ],
      "metadata": {
        "colab": {
          "base_uri": "https://localhost:8080/",
          "height": 455
        },
        "id": "qi4ZtqnjsKIC",
        "outputId": "45732b2a-4d47-4004-d9a2-31ff30d499ab"
      },
      "execution_count": 71,
      "outputs": [
        {
          "output_type": "display_data",
          "data": {
            "text/plain": [
              "<Figure size 640x480 with 1 Axes>"
            ],
            "image/png": "[encoded data removed]"
          },
          "metadata": {}
        }
      ]
    },
    {
      "cell_type": "code",
      "source": [
        "# 데이터 표준화\n",
        "scaler = StandardScaler()\n",
        "scaler.fit(data)  #표준화 스케일러를 data에 기준을 맞춤춤\n",
        "data_std = scaler.transform(data)\n",
        "print(data_std)"
      ],
      "metadata": {
        "colab": {
          "base_uri": "https://localhost:8080/"
        },
        "id": "RBR1du-bsR-R",
        "outputId": "2af7c22c-3614-4197-df0a-74a5e0ed8173"
      },
      "execution_count": 72,
      "outputs": [
        {
          "output_type": "stream",
          "name": "stdout",
          "text": [
            "[[-1.27872403  0.09365858]\n",
            " [ 0.46499055 -0.84292723]\n",
            " [-0.11624764  1.4985373 ]\n",
            " [ 1.62746694 -1.31122014]\n",
            " [-0.69748583  0.56195149]]\n"
          ]
        }
      ]
    },
    {
      "cell_type": "code",
      "source": [
        "# 표준화 데이터의 X, Y의 산포도  \n",
        "plt.scatter(data_std[:,0], data_std[:,1])\n",
        "plt.xlabel('X')\n",
        "plt.ylabel('Y')\n",
        "plt.xlim(-2, 2)\n",
        "plt.ylim(-2, 2)\n",
        "\n",
        "# 행과 열의 수\n",
        "rows, columns = data_std.shape\n",
        "# 데이터 라벨 \n",
        "for i in range(rows):\n",
        "  plt.annotate(i+1, (data_std[i,0], data_std[i,1]))"
      ],
      "metadata": {
        "colab": {
          "base_uri": "https://localhost:8080/",
          "height": 455
        },
        "id": "qv9aJI4AsVxp",
        "outputId": "319eb780-eb13-40b9-972d-12c1c9f65254"
      },
      "execution_count": 73,
      "outputs": [
        {
          "output_type": "display_data",
          "data": {
            "text/plain": [
              "<Figure size 640x480 with 1 Axes>"
            ],
            "image/png": "[encoded data removed]"
          },
          "metadata": {}
        }
      ]
    },
    {
      "cell_type": "code",
      "source": [
        "# 군집의 수를 2개로 하는 군집화 객체\n",
        "kmeans = KMeans(n_clusters=2)\n",
        "# 2, 3열을 이용한 군집화\n",
        "kmeans.fit(data_std)\n",
        "# 군집 라벨 \n",
        "print(kmeans.labels_)\n",
        "# 군집별 군집 중심\n",
        "print(kmeans.cluster_centers_)"
      ],
      "metadata": {
        "colab": {
          "base_uri": "https://localhost:8080/"
        },
        "id": "1eLvmf2vsXSm",
        "outputId": "3087c9a8-3cb8-4d4b-d15d-80a95d64b70d"
      },
      "execution_count": 74,
      "outputs": [
        {
          "output_type": "stream",
          "name": "stdout",
          "text": [
            "[0 1 0 1 0]\n",
            "[[-0.69748583  0.71804912]\n",
            " [ 1.04622875 -1.07707368]]\n"
          ]
        },
        {
          "output_type": "stream",
          "name": "stderr",
          "text": [
            "/usr/local/lib/python3.9/dist-packages/sklearn/cluster/_kmeans.py:870: FutureWarning: The default value of `n_init` will change from 10 to 'auto' in 1.4. Set the value of `n_init` explicitly to suppress the warning\n",
            "  warnings.warn(\n"
          ]
        }
      ]
    },
    {
      "cell_type": "code",
      "source": [
        "# 결과 분석\n",
        "# 군집 데이터 분포 \n",
        "plt.scatter(data_std[:,0], data_std[:,1], c=kmeans.labels_, s=50)\n",
        "# plt.title('X와 Y에 대한 분포: 표준화')\n",
        "plt.xlabel('X')\n",
        "plt.ylabel('Y')\n",
        "plt.xlim(-2, 2)\n",
        "plt.ylim(-2, 2)\n",
        "\n",
        "# 행과 열의 수\n",
        "rows, columns = data_std.shape\n",
        "\n",
        "# 데이터 라벨\n",
        "for i in range(rows):\n",
        "  plt.annotate(i+1, (data_std[i,0], data_std[i,1]))  \n",
        "\n",
        "# 군집 중심 표시 \n",
        "plt.scatter(kmeans.cluster_centers_[:, 0], \n",
        "            kmeans.cluster_centers_[:, 1], \n",
        "            c='red', s=200, alpha=0.5);\n",
        "# 군집 라벨 \n",
        "for k in range(columns):\n",
        "  plt.annotate(k, \n",
        "              (kmeans.cluster_centers_[k, 0], kmeans.cluster_centers_[k, 1]))"
      ],
      "metadata": {
        "colab": {
          "base_uri": "https://localhost:8080/",
          "height": 455
        },
        "id": "biD7hhVFsdqp",
        "outputId": "50c7fd30-6363-433f-d3ff-02bfe5cee2f2"
      },
      "execution_count": 75,
      "outputs": [
        {
          "output_type": "display_data",
          "data": {
            "text/plain": [
              "<Figure size 640x480 with 1 Axes>"
            ],
            "image/png": "[encoded data removed]"
          },
          "metadata": {}
        }
      ]
    },
    {
      "cell_type": "code",
      "source": [
        "# 클러스터 수별 TWSS 값  \n",
        "TWSS = {}\n",
        "\n",
        "# 군집 수 1~5까지 반복 \n",
        "for k in range(1, 6): \n",
        "  # 군집 수 설정과 군집화 객체 생성 \n",
        "  model = KMeans(n_clusters=k)\n",
        "  # 표준화된 X, Y 데이터에 대한 군집화  \n",
        "  model.fit(data_std)\n",
        "  # 군집 수별 TWSS 값 저장 \n",
        "  TWSS[k] = model.inertia_\n",
        "  \n",
        "\n",
        "# # 군집 수에 따른 TWSS 그래프\n",
        "plt.plot(list(TWSS.keys()), list(TWSS.values()), marker='o')\n",
        "plt.xlabel(\"Number of Clusters(K)\")\n",
        "plt.ylabel(\"TWSS\")\n",
        "plt.show()"
      ],
      "metadata": {
        "id": "apReDCm9sd9I",
        "colab": {
          "base_uri": "https://localhost:8080/",
          "height": 651
        },
        "outputId": "81aeddcb-3d5a-4cf2-d43b-ff9428708eb0"
      },
      "execution_count": 76,
      "outputs": [
        {
          "output_type": "stream",
          "name": "stderr",
          "text": [
            "/usr/local/lib/python3.9/dist-packages/sklearn/cluster/_kmeans.py:870: FutureWarning: The default value of `n_init` will change from 10 to 'auto' in 1.4. Set the value of `n_init` explicitly to suppress the warning\n",
            "  warnings.warn(\n",
            "/usr/local/lib/python3.9/dist-packages/sklearn/cluster/_kmeans.py:870: FutureWarning: The default value of `n_init` will change from 10 to 'auto' in 1.4. Set the value of `n_init` explicitly to suppress the warning\n",
            "  warnings.warn(\n",
            "/usr/local/lib/python3.9/dist-packages/sklearn/cluster/_kmeans.py:870: FutureWarning: The default value of `n_init` will change from 10 to 'auto' in 1.4. Set the value of `n_init` explicitly to suppress the warning\n",
            "  warnings.warn(\n",
            "/usr/local/lib/python3.9/dist-packages/sklearn/cluster/_kmeans.py:870: FutureWarning: The default value of `n_init` will change from 10 to 'auto' in 1.4. Set the value of `n_init` explicitly to suppress the warning\n",
            "  warnings.warn(\n",
            "/usr/local/lib/python3.9/dist-packages/sklearn/cluster/_kmeans.py:870: FutureWarning: The default value of `n_init` will change from 10 to 'auto' in 1.4. Set the value of `n_init` explicitly to suppress the warning\n",
            "  warnings.warn(\n"
          ]
        },
        {
          "output_type": "display_data",
          "data": {
            "text/plain": [
              "<Figure size 640x480 with 1 Axes>"
            ],
            "image/png": "[encoded data removed]"
          },
          "metadata": {}
        }
      ]
    },
    {
      "cell_type": "code",
      "source": [
        "# 군집화 \n",
        "K=2\n",
        "kmeans = KMeans(n_clusters=K)\n",
        "kmeans.fit(data_std)\n",
        "# 군집 중심 \n",
        "centers = kmeans.cluster_centers_\n",
        "# 군집 라벨 \n",
        "labels = kmeans.labels_\n",
        "print(centers)\n",
        "print(labels)"
      ],
      "metadata": {
        "colab": {
          "base_uri": "https://localhost:8080/"
        },
        "id": "eM6tvOc3sh_5",
        "outputId": "79ad6a17-1705-4125-ee0a-c20c652aeadb"
      },
      "execution_count": 77,
      "outputs": [
        {
          "output_type": "stream",
          "name": "stdout",
          "text": [
            "[[ 1.04622875 -1.07707368]\n",
            " [-0.69748583  0.71804912]]\n",
            "[1 0 1 0 1]\n"
          ]
        },
        {
          "output_type": "stream",
          "name": "stderr",
          "text": [
            "/usr/local/lib/python3.9/dist-packages/sklearn/cluster/_kmeans.py:870: FutureWarning: The default value of `n_init` will change from 10 to 'auto' in 1.4. Set the value of `n_init` explicitly to suppress the warning\n",
            "  warnings.warn(\n"
          ]
        }
      ]
    },
    {
      "cell_type": "markdown",
      "source": [
        "2-2번 정답\n",
        "\n",
        " 군집1의 중심[1.04622875 -1.07707368]\n",
        " 군집2의 중심[-0.69748583  0.71804912]"
      ],
      "metadata": {
        "id": "nNSHPP4mkQLH"
      }
    },
    {
      "cell_type": "code",
      "source": [
        "print(data_std)\n"
      ],
      "metadata": {
        "colab": {
          "base_uri": "https://localhost:8080/"
        },
        "id": "Rzv5saYLY3gY",
        "outputId": "a83cccf1-ab39-4b81-f846-f472fa3c1fe3"
      },
      "execution_count": 78,
      "outputs": [
        {
          "output_type": "stream",
          "name": "stdout",
          "text": [
            "[[-1.27872403  0.09365858]\n",
            " [ 0.46499055 -0.84292723]\n",
            " [-0.11624764  1.4985373 ]\n",
            " [ 1.62746694 -1.31122014]\n",
            " [-0.69748583  0.56195149]]\n"
          ]
        }
      ]
    },
    {
      "cell_type": "code",
      "source": [
        "#거리계산\n",
        "import math\n",
        "def distance(x1,y1,x2,y2):\n",
        "  result = math.sqrt(math.pow(x1-x2,2) + math.pow(y1-y2,2))\n",
        "  return result\n",
        "#k1의 중심과의 거리\n",
        "p1=(-0.69748583,  0.71804912)\n",
        "\n",
        "p2=(-1.27872403 , 0.09365858)\n",
        "d = distance(p1[0],p1[1],p2[0],p2[1])\n",
        "print(d)"
      ],
      "metadata": {
        "id": "-Hl5HIAnuqDS",
        "colab": {
          "base_uri": "https://localhost:8080/"
        },
        "outputId": "a25f489f-8d98-4a57-8dc6-22bb56471e72"
      },
      "execution_count": 79,
      "outputs": [
        {
          "output_type": "stream",
          "name": "stdout",
          "text": [
            "0.8530541551277572\n"
          ]
        }
      ]
    },
    {
      "cell_type": "code",
      "source": [
        "\n",
        "p2=(0.46499055, -0.84292723)\n",
        "d = distance(p1[0],p1[1],p2[0],p2[1])\n",
        "print(d)"
      ],
      "metadata": {
        "colab": {
          "base_uri": "https://localhost:8080/"
        },
        "id": "zLtflwErZugM",
        "outputId": "549a4841-c750-4acf-966d-b38681f1eb77"
      },
      "execution_count": 80,
      "outputs": [
        {
          "output_type": "stream",
          "name": "stdout",
          "text": [
            "1.9462781145862034\n"
          ]
        }
      ]
    },
    {
      "cell_type": "code",
      "source": [
        "p2=(-0.11624764 , 1.4985373)\n",
        "d = distance(p1[0],p1[1],p2[0],p2[1])\n",
        "print(d)"
      ],
      "metadata": {
        "colab": {
          "base_uri": "https://localhost:8080/"
        },
        "id": "0xcjCYCVZ9RS",
        "outputId": "05139a90-042a-44bd-ea10-b11835e5ee56"
      },
      "execution_count": 81,
      "outputs": [
        {
          "output_type": "stream",
          "name": "stdout",
          "text": [
            "0.9731390613032592\n"
          ]
        }
      ]
    },
    {
      "cell_type": "code",
      "source": [
        "p2=(1.62746694 ,-1.31122014)\n",
        "d = distance(p1[0],p1[1],p2[0],p2[1])\n",
        "print(d)"
      ],
      "metadata": {
        "colab": {
          "base_uri": "https://localhost:8080/"
        },
        "id": "yp8L13PAaDMA",
        "outputId": "15e706f4-1235-454b-ca2f-228b6698a2aa"
      },
      "execution_count": 82,
      "outputs": [
        {
          "output_type": "stream",
          "name": "stdout",
          "text": [
            "3.085990782927198\n"
          ]
        }
      ]
    },
    {
      "cell_type": "code",
      "source": [
        "p2=(-0.69748583 , 0.56195149)\n",
        "d = distance(p1[0],p1[1],p2[0],p2[1])\n",
        "print(d)"
      ],
      "metadata": {
        "colab": {
          "base_uri": "https://localhost:8080/"
        },
        "id": "JgjR3cjfaJ1h",
        "outputId": "abf51dba-640c-4130-9f1e-b019f1d15d94"
      },
      "execution_count": 83,
      "outputs": [
        {
          "output_type": "stream",
          "name": "stdout",
          "text": [
            "0.15609763\n"
          ]
        }
      ]
    },
    {
      "cell_type": "code",
      "source": [
        "#k2의 중심과의 거리\n",
        "p1=(1.04622875, -1.07707368)\n",
        "\n",
        "p2=(-1.27872403 , 0.09365858)\n",
        "d = distance(p1[0],p1[1],p2[0],p2[1])\n",
        "print(d)"
      ],
      "metadata": {
        "colab": {
          "base_uri": "https://localhost:8080/"
        },
        "id": "9cuNQ7WdaRCW",
        "outputId": "cf01dac8-6661-4a67-d866-05d49e5659c9"
      },
      "execution_count": 84,
      "outputs": [
        {
          "output_type": "stream",
          "name": "stdout",
          "text": [
            "2.603078841263637\n"
          ]
        }
      ]
    },
    {
      "cell_type": "code",
      "source": [
        "p2=( 0.46499055, -0.84292723)\n",
        "d = distance(p1[0],p1[1],p2[0],p2[1])\n",
        "print(d)"
      ],
      "metadata": {
        "colab": {
          "base_uri": "https://localhost:8080/"
        },
        "id": "GOcpXCIjac_C",
        "outputId": "c6b4e958-0095-4529-e420-a68a6d4075c4"
      },
      "execution_count": 85,
      "outputs": [
        {
          "output_type": "stream",
          "name": "stdout",
          "text": [
            "0.6266278043518677\n"
          ]
        }
      ]
    },
    {
      "cell_type": "code",
      "source": [
        "p2=(-0.11624764,  1.4985373)\n",
        "d = distance(p1[0],p1[1],p2[0],p2[1])\n",
        "print(d)"
      ],
      "metadata": {
        "colab": {
          "base_uri": "https://localhost:8080/"
        },
        "id": "fIy4UFvzadcO",
        "outputId": "dcea7f2c-8357-4238-83ad-10f070e4390b"
      },
      "execution_count": 86,
      "outputs": [
        {
          "output_type": "stream",
          "name": "stdout",
          "text": [
            "2.8257960431715508\n"
          ]
        }
      ]
    },
    {
      "cell_type": "code",
      "source": [
        "p2=( 1.62746694, -1.31122014)\n",
        "d = distance(p1[0],p1[1],p2[0],p2[1])\n",
        "print(d)"
      ],
      "metadata": {
        "colab": {
          "base_uri": "https://localhost:8080/"
        },
        "id": "oSZGqjtTae5s",
        "outputId": "dfb377e0-0e75-4240-e60e-a571ff146deb"
      },
      "execution_count": 87,
      "outputs": [
        {
          "output_type": "stream",
          "name": "stdout",
          "text": [
            "0.626627798812826\n"
          ]
        }
      ]
    },
    {
      "cell_type": "code",
      "source": [
        "p2=(-0.69748583 , 0.56195149)\n",
        "d = distance(p1[0],p1[1],p2[0],p2[1])\n",
        "print(d)"
      ],
      "metadata": {
        "colab": {
          "base_uri": "https://localhost:8080/"
        },
        "id": "spx4EGMuafRk",
        "outputId": "4a4e5310-132b-4309-df54-8d824aa9fc73"
      },
      "execution_count": 88,
      "outputs": [
        {
          "output_type": "stream",
          "name": "stdout",
          "text": [
            "2.3931034337023767\n"
          ]
        }
      ]
    },
    {
      "cell_type": "code",
      "source": [
        "import pandas as pd\n",
        "col = [0, 0]\n",
        "ind = [0, 0]\n",
        "con = [[0, 0], [0, 0]]\n",
        "df = pd.DataFrame(con, columns=col, index=ind)\n"
      ],
      "metadata": {
        "id": "jm7mkR6icXah"
      },
      "execution_count": 89,
      "outputs": []
    },
    {
      "cell_type": "code",
      "source": [
        "def df_maker(col_num, ind_num, fill):\n",
        "    col = []\n",
        "    ind = []\n",
        "    con = []\n",
        "    for i in range(0,col_num):\n",
        "        col.append(fill)\n",
        "    for i in range(0,ind_num):\n",
        "        ind.append(fill)\n",
        "    for i in range(0,ind_num):\n",
        "        con.append(col)\n",
        "    return pd.DataFrame(con, columns=col, index=ind)\n"
      ],
      "metadata": {
        "id": "xWec_oOFckCX"
      },
      "execution_count": 90,
      "outputs": []
    },
    {
      "cell_type": "code",
      "source": [
        "df = df_maker(5,5,0)  # 3X3 데이터 프레임 생성 0으로 채움\n",
        "col = [\"X\",\"Y\",\"거리1\",\"거리2\",\"군집할당\",]\n",
        "ind = [1,2,3,4,5]\n",
        "df.columns = col  # 컬럼 col 리스트로 덮어씌움\n",
        "df.index = ind    # 인덱스 ind 리스트로 덮어씌움"
      ],
      "metadata": {
        "id": "RAw-HxQebEWj"
      },
      "execution_count": 91,
      "outputs": []
    },
    {
      "cell_type": "code",
      "source": [
        "print(df)"
      ],
      "metadata": {
        "colab": {
          "base_uri": "https://localhost:8080/"
        },
        "id": "dZZwlGEebEOf",
        "outputId": "d28bf9a4-f991-4604-c0a0-cfc067ea550a"
      },
      "execution_count": 92,
      "outputs": [
        {
          "output_type": "stream",
          "name": "stdout",
          "text": [
            "   X  Y  거리1  거리2  군집할당\n",
            "1  0  0    0    0     0\n",
            "2  0  0    0    0     0\n",
            "3  0  0    0    0     0\n",
            "4  0  0    0    0     0\n",
            "5  0  0    0    0     0\n"
          ]
        }
      ]
    },
    {
      "cell_type": "code",
      "source": [
        "df[\"X\"] = [-1.27872403,0.46499055,-0.11624764,1.62746694,-0.69748583]\n",
        "df[\"Y\"] = [0.09365858,-0.84292723, 1.4985373,-1.31122014,  0.56195149]\n",
        "df[\"거리1\"] = [0.8530541551277572,\n",
        "1.9462781145862034,\n",
        "0.9731390613032592,\n",
        "3.085990782927198,\n",
        "0.15609763]\n",
        "df[\"거리2\"] = [2.603078841263637,\n",
        "0.6266278043518677,\n",
        "2.8257960431715508,\n",
        "0.626627798812826,\n",
        "2.3931034337023767]\n",
        "df[\"군집할당\"]=[0, 1 ,0 ,1, 0]"
      ],
      "metadata": {
        "id": "6NVdbi9Bc87n"
      },
      "execution_count": 93,
      "outputs": []
    },
    {
      "cell_type": "markdown",
      "source": [
        "2-1번 정답\n"
      ],
      "metadata": {
        "id": "4tuDqk2bkjqf"
      }
    },
    {
      "cell_type": "code",
      "source": [
        "print(df)"
      ],
      "metadata": {
        "colab": {
          "base_uri": "https://localhost:8080/"
        },
        "id": "B10h1dJTeCKk",
        "outputId": "a65d0681-9267-4fae-b3be-6a3168093075"
      },
      "execution_count": 94,
      "outputs": [
        {
          "output_type": "stream",
          "name": "stdout",
          "text": [
            "          X         Y       거리1       거리2  군집할당\n",
            "1 -1.278724  0.093659  0.853054  2.603079     0\n",
            "2  0.464991 -0.842927  1.946278  0.626628     1\n",
            "3 -0.116248  1.498537  0.973139  2.825796     0\n",
            "4  1.627467 -1.311220  3.085991  0.626628     1\n",
            "5 -0.697486  0.561951  0.156098  2.393103     0\n"
          ]
        }
      ]
    },
    {
      "cell_type": "code",
      "source": [
        "print(TWSS)"
      ],
      "metadata": {
        "colab": {
          "base_uri": "https://localhost:8080/"
        },
        "id": "FXgdhcNxeDLN",
        "outputId": "b625d0e8-99e0-4fb7-bdc8-7c7f61cbf2f3"
      },
      "execution_count": 95,
      "outputs": [
        {
          "output_type": "stream",
          "name": "stdout",
          "text": [
            "{1: 10.0, 2: 2.484392287023866, 3: 1.0638928402086296, 4: 0.2785680417259364, 5: 0.0}\n"
          ]
        }
      ]
    },
    {
      "cell_type": "markdown",
      "source": [
        "2-3번정답"
      ],
      "metadata": {
        "id": "SA8JbW2Nkqy0"
      }
    },
    {
      "cell_type": "code",
      "source": [
        "WSS_1=0.853054**2+0.973139**2+0.156098**2\n",
        "WSS_1"
      ],
      "metadata": {
        "colab": {
          "base_uri": "https://localhost:8080/"
        },
        "id": "W736Z55zhqFk",
        "outputId": "0323a3f8-0958-4414-c8c5-b039bd6fe045"
      },
      "execution_count": 96,
      "outputs": [
        {
          "output_type": "execute_result",
          "data": {
            "text/plain": [
              "1.699067225841"
            ]
          },
          "metadata": {},
          "execution_count": 96
        }
      ]
    },
    {
      "cell_type": "code",
      "source": [
        "WSS_2=0.626628 **2+0.626628**2\n",
        "WSS_2"
      ],
      "metadata": {
        "colab": {
          "base_uri": "https://localhost:8080/"
        },
        "id": "pHsISyTRi4zT",
        "outputId": "555bb9bf-b414-43e1-ab63-5ebaa9f218fe"
      },
      "execution_count": 97,
      "outputs": [
        {
          "output_type": "execute_result",
          "data": {
            "text/plain": [
              "0.7853253007679999"
            ]
          },
          "metadata": {},
          "execution_count": 97
        }
      ]
    },
    {
      "cell_type": "code",
      "source": [
        "TWSS_k2=WSS_1+WSS_2\n",
        "TWSS_k2"
      ],
      "metadata": {
        "colab": {
          "base_uri": "https://localhost:8080/"
        },
        "id": "UcvbVBUvjG4y",
        "outputId": "59c72d59-1f4f-4f1d-89bc-b33888f1e754"
      },
      "execution_count": 98,
      "outputs": [
        {
          "output_type": "execute_result",
          "data": {
            "text/plain": [
              "2.4843925266089997"
            ]
          },
          "metadata": {},
          "execution_count": 98
        }
      ]
    },
    {
      "cell_type": "code",
      "source": [],
      "metadata": {
        "id": "6dPJrC1ZjOvr"
      },
      "execution_count": 98,
      "outputs": []
    }
  ]
}