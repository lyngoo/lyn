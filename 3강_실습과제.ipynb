{
  "nbformat": 4,
  "nbformat_minor": 0,
  "metadata": {
    "colab": {
      "provenance": [],
      "collapsed_sections": [],
      "mount_file_id": "1DUAf1WmzT2PWzd50p8BRjYSbQCqxWN0t",
      "authorship_tag": "ABX9TyMLW6hhEd1uZbKnkhWZNHy/",
      "include_colab_link": true
    },
    "kernelspec": {
      "name": "python3",
      "display_name": "Python 3"
    },
    "language_info": {
      "name": "python"
    }
  },
  "cells": [
    {
      "cell_type": "markdown",
      "metadata": {
        "id": "view-in-github",
        "colab_type": "text"
      },
      "source": [
        "<a href=\"https://colab.research.google.com/github/lyngoo/lyn/blob/main/3%EA%B0%95_%EC%8B%A4%EC%8A%B5%EA%B3%BC%EC%A0%9C.ipynb\" target=\"_parent\"><img src=\"https://colab.research.google.com/assets/colab-badge.svg\" alt=\"Open In Colab\"/></a>"
      ]
    },
    {
      "cell_type": "code",
      "source": [
        "import pandas as pd"
      ],
      "metadata": {
        "id": "s1VD9SQ1MK9l"
      },
      "execution_count": 62,
      "outputs": []
    },
    {
      "cell_type": "code",
      "execution_count": 79,
      "metadata": {
        "id": "ytWxWexxpJrv"
      },
      "outputs": [],
      "source": [
        "class text_static():\n",
        "  def processLine(self,line,wordCounts):\n",
        "    line=self.replacePunctuations(line)\n",
        "    words=line.split()\n",
        "    for word in words:\n",
        "      if word in wordCounts:\n",
        "        wordCounts[word] +=1\n",
        "      else:\n",
        "        wordCounts[word]=1\n",
        "  def replacePunctuations(self,line):\n",
        "    for ch in line:\n",
        "      if ch in \",.;:\":\n",
        "        line=line.replace(ch,\"\")\n",
        "\n",
        "    return line\n",
        "  def wordCount(self,filename):\n",
        "    f=open(\"/I_have_a_dream.txt\",\"r\")\n",
        "    lines=f. readlines()\n",
        "    wordCounts={}\n",
        "    for line in lines:\n",
        "      self.processLine(line.lower(),wordCounts)\n",
        "\n",
        "    return wordCounts\n",
        "  def arrange_pairs(self,wordCounts):\n",
        "    pairs=list(wordCounts.items())\n",
        "    items=[[x,y]for(x,y)in pairs]\n",
        "    items.sort()\n",
        "    items={x:y for [y,x]in items}\n",
        "    return items\n",
        "\n",
        "      \n",
        "\n",
        "  "
      ]
    },
    {
      "cell_type": "code",
      "source": [
        "t=text_static()"
      ],
      "metadata": {
        "id": "2HB4-pwRpKlD"
      },
      "execution_count": 80,
      "outputs": []
    },
    {
      "cell_type": "code",
      "source": [
        "fn=(\"/I_have_a_dream.txt\")"
      ],
      "metadata": {
        "id": "7zQAYIQipMYJ"
      },
      "execution_count": 84,
      "outputs": []
    },
    {
      "cell_type": "code",
      "source": [
        "wordCounts = t.wordCount(fn)\n",
        "wordCounts = t.arrange_pairs(wordCounts)"
      ],
      "metadata": {
        "id": "NGxlxRH7pOmi"
      },
      "execution_count": 85,
      "outputs": []
    },
    {
      "cell_type": "code",
      "source": [
        "wordCounts"
      ],
      "metadata": {
        "colab": {
          "base_uri": "https://localhost:8080/"
        },
        "id": "6bkL9aICpRKa",
        "outputId": "402599d6-c84d-495a-be7d-8a00add75519"
      },
      "execution_count": 86,
      "outputs": [
        {
          "output_type": "execute_result",
          "data": {
            "text/plain": [
              "{1: 'york',\n",
              " 22: 'and',\n",
              " 2: 'you',\n",
              " 3: 'white',\n",
              " 4: 'with',\n",
              " 6: 'their',\n",
              " 19: 'we',\n",
              " 12: 'negro',\n",
              " 5: 'years',\n",
              " 7: 'satisfied',\n",
              " 16: 'in',\n",
              " 18: 'is',\n",
              " 9: 'will',\n",
              " 56: 'of',\n",
              " 14: 'our',\n",
              " 10: 'that',\n",
              " 66: 'the',\n",
              " 35: 'to'}"
            ]
          },
          "metadata": {},
          "execution_count": 86
        }
      ]
    },
    {
      "cell_type": "code",
      "source": [
        "print(wordCounts)"
      ],
      "metadata": {
        "id": "vAecRWiTCzOp",
        "colab": {
          "base_uri": "https://localhost:8080/"
        },
        "outputId": "b3c366fa-996b-458b-eb0a-f12fe7210860"
      },
      "execution_count": 87,
      "outputs": [
        {
          "output_type": "stream",
          "name": "stdout",
          "text": [
            "{1: 'york', 22: 'and', 2: 'you', 3: 'white', 4: 'with', 6: 'their', 19: 'we', 12: 'negro', 5: 'years', 7: 'satisfied', 16: 'in', 18: 'is', 9: 'will', 56: 'of', 14: 'our', 10: 'that', 66: 'the', 35: 'to'}\n"
          ]
        }
      ]
    },
    {
      "cell_type": "code",
      "source": [
        "pdata=pd.Series(wordCounts)\n",
        "pdata[0:50]"
      ],
      "metadata": {
        "id": "e1VQsu43DofK",
        "colab": {
          "base_uri": "https://localhost:8080/"
        },
        "outputId": "59aa9cab-57d8-4c14-909f-612a0f540639"
      },
      "execution_count": 88,
      "outputs": [
        {
          "output_type": "execute_result",
          "data": {
            "text/plain": [
              "1          york\n",
              "22          and\n",
              "2           you\n",
              "3         white\n",
              "4          with\n",
              "6         their\n",
              "19           we\n",
              "12        negro\n",
              "5         years\n",
              "7     satisfied\n",
              "16           in\n",
              "18           is\n",
              "9          will\n",
              "56           of\n",
              "14          our\n",
              "10         that\n",
              "66          the\n",
              "35           to\n",
              "dtype: object"
            ]
          },
          "metadata": {},
          "execution_count": 88
        }
      ]
    },
    {
      "cell_type": "code",
      "source": [],
      "metadata": {
        "id": "5KpHwh4JMfJn"
      },
      "execution_count": null,
      "outputs": []
    }
  ]
}