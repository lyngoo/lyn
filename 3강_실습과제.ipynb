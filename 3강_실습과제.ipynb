{
  "nbformat": 4,
  "nbformat_minor": 0,
  "metadata": {
    "colab": {
      "provenance": [],
      "authorship_tag": "ABX9TyMojIwydXNW3tArvhNVS4g+",
      "include_colab_link": true
    },
    "kernelspec": {
      "name": "python3",
      "display_name": "Python 3"
    },
    "language_info": {
      "name": "python"
    }
  },
  "cells": [
    {
      "cell_type": "markdown",
      "metadata": {
        "id": "view-in-github",
        "colab_type": "text"
      },
      "source": [
        "<a href=\"https://colab.research.google.com/github/lyngoo/lyn/blob/main/3%EA%B0%95_%EC%8B%A4%EC%8A%B5%EA%B3%BC%EC%A0%9C.ipynb\" target=\"_parent\"><img src=\"https://colab.research.google.com/assets/colab-badge.svg\" alt=\"Open In Colab\"/></a>"
      ]
    },
    {
      "cell_type": "code",
      "execution_count": 45,
      "metadata": {
        "id": "ytWxWexxpJrv"
      },
      "outputs": [],
      "source": [
        "class text_static:\n",
        "  def processLine(self,line,wordCounts):\n",
        "    line=self.replacePunctuations(line)\n",
        "    words=line.split()\n",
        "    for word in words:\n",
        "      if word in wordCounts:\n",
        "        wordCounts[word] +=1\n",
        "      else:\n",
        "        wordCounts[word]=1\n",
        "  def replacePunctuations(self,line):\n",
        "    for ch in line:\n",
        "      if ch in \",.;:\":\n",
        "        line=line.replace(ch,\"\")\n",
        "\n",
        "    return line\n",
        "  def wordCount(self,filename):\n",
        "    f=open(\"I_have_a_dream.txt\",\"r\")\n",
        "    lines=f. readlines()\n",
        "    wordCounts={}\n",
        "    for line in lines:\n",
        "      self.processLine(line.lower(),wordCounts)\n",
        "\n",
        "      return wordCounts\n",
        "  def arrange_pairs(self,wordCounts):\n",
        "    pairs=list(wordCounts.items())\n",
        "    items=[[x,y]for(x,y)in pairs]\n",
        "    items.sort()\n",
        "    items={x:y for [y,x]in items}\n",
        "    return items"
      ]
    },
    {
      "cell_type": "code",
      "source": [
        "t=text_static()"
      ],
      "metadata": {
        "id": "2HB4-pwRpKlD"
      },
      "execution_count": 46,
      "outputs": []
    },
    {
      "cell_type": "code",
      "source": [
        "fn=\"I_have_a_dream.txt\""
      ],
      "metadata": {
        "id": "7zQAYIQipMYJ"
      },
      "execution_count": 47,
      "outputs": []
    },
    {
      "cell_type": "code",
      "source": [
        "wordCounts = t.wordCount(fn)\n",
        "wordCounts = t.arrange_pairs(wordCounts)"
      ],
      "metadata": {
        "id": "NGxlxRH7pOmi"
      },
      "execution_count": 48,
      "outputs": []
    },
    {
      "cell_type": "code",
      "source": [
        "wordCounts"
      ],
      "metadata": {
        "colab": {
          "base_uri": "https://localhost:8080/"
        },
        "id": "6bkL9aICpRKa",
        "outputId": "999fea48-8a1d-4f6f-a6c8-3b1be4cab20c"
      },
      "execution_count": 49,
      "outputs": [
        {
          "output_type": "execute_result",
          "data": {
            "text/plain": [
              "{1: 'you', 2: 'the', 3: 'in'}"
            ]
          },
          "metadata": {},
          "execution_count": 49
        }
      ]
    },
    {
      "cell_type": "code",
      "source": [],
      "metadata": {
        "id": "vAecRWiTCzOp"
      },
      "execution_count": null,
      "outputs": []
    }
  ]
}