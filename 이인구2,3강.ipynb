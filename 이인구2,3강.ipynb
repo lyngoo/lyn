{
  "nbformat": 4,
  "nbformat_minor": 0,
  "metadata": {
    "colab": {
      "provenance": [],
      "collapsed_sections": [],
      "authorship_tag": "ABX9TyP+pG4FDw94MQsmuAiYVyny",
      "include_colab_link": true
    },
    "kernelspec": {
      "name": "python3",
      "display_name": "Python 3"
    },
    "language_info": {
      "name": "python"
    }
  },
  "cells": [
    {
      "cell_type": "markdown",
      "metadata": {
        "id": "view-in-github",
        "colab_type": "text"
      },
      "source": [
        "<a href=\"https://colab.research.google.com/github/lyngoo/lyn/blob/main/%EC%9D%B4%EC%9D%B8%EA%B5%AC2%2C3%EA%B0%95.ipynb\" target=\"_parent\"><img src=\"https://colab.research.google.com/assets/colab-badge.svg\" alt=\"Open In Colab\"/></a>"
      ]
    },
    {
      "cell_type": "code",
      "execution_count": 13,
      "metadata": {
        "id": "VH_WlyeeiB5p"
      },
      "outputs": [],
      "source": [
        "import numpy as np\n"
      ]
    },
    {
      "cell_type": "code",
      "source": [
        "np.__version__"
      ],
      "metadata": {
        "id": "vbsITfiytqTl",
        "colab": {
          "base_uri": "https://localhost:8080/",
          "height": 35
        },
        "outputId": "f97e56ad-0529-42ad-a254-af5a06abb72b"
      },
      "execution_count": 14,
      "outputs": [
        {
          "output_type": "execute_result",
          "data": {
            "text/plain": [
              "'1.21.6'"
            ],
            "application/vnd.google.colaboratory.intrinsic+json": {
              "type": "string"
            }
          },
          "metadata": {},
          "execution_count": 14
        }
      ]
    },
    {
      "cell_type": "code",
      "source": [
        "a=np.array((1,2,3), dtype=float)\n",
        "print(a)"
      ],
      "metadata": {
        "colab": {
          "base_uri": "https://localhost:8080/"
        },
        "id": "hlDYrnxquO4r",
        "outputId": "7b95d66f-439f-494f-e1f6-2da59cf60f8c"
      },
      "execution_count": 15,
      "outputs": [
        {
          "output_type": "stream",
          "name": "stdout",
          "text": [
            "[1. 2. 3.]\n"
          ]
        }
      ]
    },
    {
      "cell_type": "code",
      "source": [
        "a = np.array([(1,2,3),(4,5,6)],dtype=float)\n",
        "print(a)"
      ],
      "metadata": {
        "colab": {
          "base_uri": "https://localhost:8080/"
        },
        "id": "YmXB8Cpabkfu",
        "outputId": "2ef56035-52db-4cb8-f5fe-a923d3f1e3e3"
      },
      "execution_count": 16,
      "outputs": [
        {
          "output_type": "stream",
          "name": "stdout",
          "text": [
            "[[1. 2. 3.]\n",
            " [4. 5. 6.]]\n"
          ]
        }
      ]
    },
    {
      "cell_type": "code",
      "source": [
        " a = np.array([[[1,2,3],[4,5,6]],[[3,2,1],[4,5,6]]],dtype=float)\n",
        " print(a)"
      ],
      "metadata": {
        "colab": {
          "base_uri": "https://localhost:8080/"
        },
        "id": "aECBTl3Gb6Ez",
        "outputId": "43c884bb-f664-44d9-db02-0039de1cbf2c"
      },
      "execution_count": 17,
      "outputs": [
        {
          "output_type": "stream",
          "name": "stdout",
          "text": [
            "[[[1. 2. 3.]\n",
            "  [4. 5. 6.]]\n",
            "\n",
            " [[3. 2. 1.]\n",
            "  [4. 5. 6.]]]\n"
          ]
        }
      ]
    },
    {
      "cell_type": "code",
      "source": [
        "a=np.zeros((3))\n",
        "print(a)"
      ],
      "metadata": {
        "colab": {
          "base_uri": "https://localhost:8080/"
        },
        "id": "GAmxdqLlc5oc",
        "outputId": "662f2f57-c0f0-4a98-e6bb-dec7ab920c2b"
      },
      "execution_count": 18,
      "outputs": [
        {
          "output_type": "stream",
          "name": "stdout",
          "text": [
            "[0. 0. 0.]\n"
          ]
        }
      ]
    },
    {
      "cell_type": "code",
      "source": [
        "a=np.zeros((3,4))\n",
        "print(a)"
      ],
      "metadata": {
        "colab": {
          "base_uri": "https://localhost:8080/"
        },
        "id": "TfDMC1dOb0xy",
        "outputId": "7b8c0405-b8cf-4610-9774-77351da67f74"
      },
      "execution_count": 19,
      "outputs": [
        {
          "output_type": "stream",
          "name": "stdout",
          "text": [
            "[[0. 0. 0. 0.]\n",
            " [0. 0. 0. 0.]\n",
            " [0. 0. 0. 0.]]\n"
          ]
        }
      ]
    },
    {
      "cell_type": "code",
      "source": [
        "a=np.zeros((2,3,4))\n",
        "print(a)"
      ],
      "metadata": {
        "colab": {
          "base_uri": "https://localhost:8080/"
        },
        "id": "NOfiGzBabf0C",
        "outputId": "409bca5a-a61b-4f12-adb9-b858219ec939"
      },
      "execution_count": 20,
      "outputs": [
        {
          "output_type": "stream",
          "name": "stdout",
          "text": [
            "[[[0. 0. 0. 0.]\n",
            "  [0. 0. 0. 0.]\n",
            "  [0. 0. 0. 0.]]\n",
            "\n",
            " [[0. 0. 0. 0.]\n",
            "  [0. 0. 0. 0.]\n",
            "  [0. 0. 0. 0.]]]\n"
          ]
        }
      ]
    },
    {
      "cell_type": "code",
      "source": [
        "a=np.full((3),4,dtype=np.int16)\n",
        "print(a)"
      ],
      "metadata": {
        "colab": {
          "base_uri": "https://localhost:8080/"
        },
        "id": "PR7o5cCLdLmS",
        "outputId": "9c6407dc-fc7f-421b-c09d-c8d9f96cdf07"
      },
      "execution_count": 21,
      "outputs": [
        {
          "output_type": "stream",
          "name": "stdout",
          "text": [
            "[4 4 4]\n"
          ]
        }
      ]
    },
    {
      "cell_type": "code",
      "source": [
        "a=np.full((3,4),-1,dtype=float)\n",
        "print(a)"
      ],
      "metadata": {
        "colab": {
          "base_uri": "https://localhost:8080/"
        },
        "id": "WKt5W7n-dZr5",
        "outputId": "2e88eff3-acbf-4de7-88b6-d5149297e1e1"
      },
      "execution_count": 22,
      "outputs": [
        {
          "output_type": "stream",
          "name": "stdout",
          "text": [
            "[[-1. -1. -1. -1.]\n",
            " [-1. -1. -1. -1.]\n",
            " [-1. -1. -1. -1.]]\n"
          ]
        }
      ]
    },
    {
      "cell_type": "code",
      "source": [
        "a=np.full((3,4),-1,)\n",
        "print(a)"
      ],
      "metadata": {
        "colab": {
          "base_uri": "https://localhost:8080/"
        },
        "id": "rk-GJ4gudmQq",
        "outputId": "213abd23-f3c1-4898-ca9e-47c1fe4f01be"
      },
      "execution_count": 23,
      "outputs": [
        {
          "output_type": "stream",
          "name": "stdout",
          "text": [
            "[[-1 -1 -1 -1]\n",
            " [-1 -1 -1 -1]\n",
            " [-1 -1 -1 -1]]\n"
          ]
        }
      ]
    },
    {
      "cell_type": "code",
      "source": [
        "a=np.full((2,3,4),-1,dtype=float)\n",
        "print(a)"
      ],
      "metadata": {
        "colab": {
          "base_uri": "https://localhost:8080/"
        },
        "id": "DgzUa0pvdpax",
        "outputId": "668208f2-465f-408e-f51b-d0526090c871"
      },
      "execution_count": 24,
      "outputs": [
        {
          "output_type": "stream",
          "name": "stdout",
          "text": [
            "[[[-1. -1. -1. -1.]\n",
            "  [-1. -1. -1. -1.]\n",
            "  [-1. -1. -1. -1.]]\n",
            "\n",
            " [[-1. -1. -1. -1.]\n",
            "  [-1. -1. -1. -1.]\n",
            "  [-1. -1. -1. -1.]]]\n"
          ]
        }
      ]
    },
    {
      "cell_type": "code",
      "source": [
        "a=np.eye(3,dtype=float)\n",
        "print(a)"
      ],
      "metadata": {
        "colab": {
          "base_uri": "https://localhost:8080/"
        },
        "id": "JH_nwefTdwii",
        "outputId": "edffe785-88fb-4b2b-8d6d-4db509109d24"
      },
      "execution_count": 25,
      "outputs": [
        {
          "output_type": "stream",
          "name": "stdout",
          "text": [
            "[[1. 0. 0.]\n",
            " [0. 1. 0.]\n",
            " [0. 0. 1.]]\n"
          ]
        }
      ]
    },
    {
      "cell_type": "code",
      "source": [
        "a=np.array([(1,2,3),(4,5,6)],dtype=float)\n",
        "b=np.ones_like(a)\n",
        "print(b)"
      ],
      "metadata": {
        "colab": {
          "base_uri": "https://localhost:8080/"
        },
        "id": "7x00Ps3Xd2yC",
        "outputId": "757db7cb-ea33-4849-e703-4f599c87645a"
      },
      "execution_count": 26,
      "outputs": [
        {
          "output_type": "stream",
          "name": "stdout",
          "text": [
            "[[1. 1. 1.]\n",
            " [1. 1. 1.]]\n"
          ]
        }
      ]
    },
    {
      "cell_type": "code",
      "source": [
        "a=np.array([(1,2,3),(4,5,6)],dtype=float)\n",
        "b=np.zeros_like(a)\n",
        "print(b)"
      ],
      "metadata": {
        "colab": {
          "base_uri": "https://localhost:8080/"
        },
        "id": "n6evnhSqeK3a",
        "outputId": "7a91dde7-c741-459e-a162-e554ba1fa621"
      },
      "execution_count": 27,
      "outputs": [
        {
          "output_type": "stream",
          "name": "stdout",
          "text": [
            "[[0. 0. 0.]\n",
            " [0. 0. 0.]]\n"
          ]
        }
      ]
    },
    {
      "cell_type": "code",
      "source": [
        "a=np.array([(1,2,3),(4,5,6)],dtype=float)\n",
        "b=np.full_like(a,-1,dtype=float)\n",
        "print(b)"
      ],
      "metadata": {
        "colab": {
          "base_uri": "https://localhost:8080/"
        },
        "id": "u0k75C_4eQfK",
        "outputId": "2c465bec-6bb5-4331-ae29-2550d783cea0"
      },
      "execution_count": 28,
      "outputs": [
        {
          "output_type": "stream",
          "name": "stdout",
          "text": [
            "[[-1. -1. -1.]\n",
            " [-1. -1. -1.]]\n"
          ]
        }
      ]
    },
    {
      "cell_type": "code",
      "source": [
        "arr=np.array([(1,2,3),(4,5,6)],dtype=float)\n",
        "print(arr)"
      ],
      "metadata": {
        "colab": {
          "base_uri": "https://localhost:8080/"
        },
        "id": "b3zf2zpaehWi",
        "outputId": "a3be787e-5c92-4a4f-d731-49bb537f4632"
      },
      "execution_count": 29,
      "outputs": [
        {
          "output_type": "stream",
          "name": "stdout",
          "text": [
            "[[1. 2. 3.]\n",
            " [4. 5. 6.]]\n"
          ]
        }
      ]
    },
    {
      "cell_type": "code",
      "source": [
        "arr.shape"
      ],
      "metadata": {
        "colab": {
          "base_uri": "https://localhost:8080/"
        },
        "id": "VzzNVSWneqpC",
        "outputId": "3fe3def3-caaa-4544-dbb2-d29593f3f336"
      },
      "execution_count": 30,
      "outputs": [
        {
          "output_type": "execute_result",
          "data": {
            "text/plain": [
              "(2, 3)"
            ]
          },
          "metadata": {},
          "execution_count": 30
        }
      ]
    },
    {
      "cell_type": "code",
      "source": [
        "len(arr)"
      ],
      "metadata": {
        "colab": {
          "base_uri": "https://localhost:8080/"
        },
        "id": "9CL3oILBetAa",
        "outputId": "39323d6a-e53a-441b-ccbe-93bbe1c1c235"
      },
      "execution_count": 31,
      "outputs": [
        {
          "output_type": "execute_result",
          "data": {
            "text/plain": [
              "2"
            ]
          },
          "metadata": {},
          "execution_count": 31
        }
      ]
    },
    {
      "cell_type": "code",
      "source": [
        "arr.ndim"
      ],
      "metadata": {
        "colab": {
          "base_uri": "https://localhost:8080/"
        },
        "id": "HNZgxLX7eu-y",
        "outputId": "ff162efa-6ab6-473d-9703-043855d826a2"
      },
      "execution_count": 32,
      "outputs": [
        {
          "output_type": "execute_result",
          "data": {
            "text/plain": [
              "2"
            ]
          },
          "metadata": {},
          "execution_count": 32
        }
      ]
    },
    {
      "cell_type": "code",
      "source": [
        "arr.dtype"
      ],
      "metadata": {
        "colab": {
          "base_uri": "https://localhost:8080/"
        },
        "id": "LDenW1HSexRi",
        "outputId": "fbb3259d-3336-41f5-863e-b7f5f568e8a3"
      },
      "execution_count": 33,
      "outputs": [
        {
          "output_type": "execute_result",
          "data": {
            "text/plain": [
              "dtype('float64')"
            ]
          },
          "metadata": {},
          "execution_count": 33
        }
      ]
    },
    {
      "cell_type": "code",
      "source": [
        "a=np.linspace(0,1,5)\n",
        "print(a)\n"
      ],
      "metadata": {
        "colab": {
          "base_uri": "https://localhost:8080/"
        },
        "id": "gJ6u_DjeezLL",
        "outputId": "439a1670-2df8-4e74-b76a-b41497b96afe"
      },
      "execution_count": 34,
      "outputs": [
        {
          "output_type": "stream",
          "name": "stdout",
          "text": [
            "[0.   0.25 0.5  0.75 1.  ]\n"
          ]
        }
      ]
    },
    {
      "cell_type": "code",
      "source": [
        "a=np.arange(0,10,2,np.float)\n",
        "print(a)"
      ],
      "metadata": {
        "colab": {
          "base_uri": "https://localhost:8080/"
        },
        "id": "tvJ5UN5wfBLC",
        "outputId": "54871dbe-b6a0-4e1c-8801-114522e56266"
      },
      "execution_count": 35,
      "outputs": [
        {
          "output_type": "stream",
          "name": "stdout",
          "text": [
            "[0. 2. 4. 6. 8.]\n"
          ]
        },
        {
          "output_type": "stream",
          "name": "stderr",
          "text": [
            "/usr/local/lib/python3.7/dist-packages/ipykernel_launcher.py:1: DeprecationWarning: `np.float` is a deprecated alias for the builtin `float`. To silence this warning, use `float` by itself. Doing this will not modify any behavior and is safe. If you specifically wanted the numpy scalar type, use `np.float64` here.\n",
            "Deprecated in NumPy 1.20; for more details and guidance: https://numpy.org/devdocs/release/1.20.0-notes.html#deprecations\n",
            "  \"\"\"Entry point for launching an IPython kernel.\n"
          ]
        }
      ]
    },
    {
      "cell_type": "code",
      "source": [
        "a=np.logspace(0,10,4,np.float)\n",
        "print(a)"
      ],
      "metadata": {
        "colab": {
          "base_uri": "https://localhost:8080/"
        },
        "id": "oONWH7HTfWRK",
        "outputId": "7dfbe973-fb90-4c04-b793-f66dacb9a003"
      },
      "execution_count": 36,
      "outputs": [
        {
          "output_type": "stream",
          "name": "stdout",
          "text": [
            "[1.00000000e+00 2.15443469e+03 4.64158883e+06 1.00000000e+10]\n"
          ]
        },
        {
          "output_type": "stream",
          "name": "stderr",
          "text": [
            "/usr/local/lib/python3.7/dist-packages/ipykernel_launcher.py:1: DeprecationWarning: `np.float` is a deprecated alias for the builtin `float`. To silence this warning, use `float` by itself. Doing this will not modify any behavior and is safe. If you specifically wanted the numpy scalar type, use `np.float64` here.\n",
            "Deprecated in NumPy 1.20; for more details and guidance: https://numpy.org/devdocs/release/1.20.0-notes.html#deprecations\n",
            "  \"\"\"Entry point for launching an IPython kernel.\n"
          ]
        }
      ]
    },
    {
      "cell_type": "code",
      "source": [
        "a=np.arange(1,10).reshape(3,3)\n",
        "print(a)"
      ],
      "metadata": {
        "colab": {
          "base_uri": "https://localhost:8080/"
        },
        "id": "YaMncsvGffzi",
        "outputId": "030f33b7-94b4-49c0-e3a1-921e2f35bcd1"
      },
      "execution_count": 37,
      "outputs": [
        {
          "output_type": "stream",
          "name": "stdout",
          "text": [
            "[[1 2 3]\n",
            " [4 5 6]\n",
            " [7 8 9]]\n"
          ]
        }
      ]
    },
    {
      "cell_type": "code",
      "source": [
        "b=np.arange(9,0,-1).reshape(3,3)\n",
        "print(b)"
      ],
      "metadata": {
        "colab": {
          "base_uri": "https://localhost:8080/"
        },
        "id": "l7zPej3MftHJ",
        "outputId": "9a3eb2fe-869e-44ef-dbf6-001230c68a14"
      },
      "execution_count": 38,
      "outputs": [
        {
          "output_type": "stream",
          "name": "stdout",
          "text": [
            "[[9 8 7]\n",
            " [6 5 4]\n",
            " [3 2 1]]\n"
          ]
        }
      ]
    },
    {
      "cell_type": "code",
      "source": [],
      "metadata": {
        "id": "Yddo7biIf4BJ"
      },
      "execution_count": 38,
      "outputs": []
    },
    {
      "cell_type": "code",
      "source": [
        "c=np.add(a,b)\n",
        "print(c)"
      ],
      "metadata": {
        "colab": {
          "base_uri": "https://localhost:8080/"
        },
        "id": "I2fQogUhfOqC",
        "outputId": "6e9d4cb3-975d-4396-e2f7-10f7d5a6a466"
      },
      "execution_count": 39,
      "outputs": [
        {
          "output_type": "stream",
          "name": "stdout",
          "text": [
            "[[10 10 10]\n",
            " [10 10 10]\n",
            " [10 10 10]]\n"
          ]
        }
      ]
    },
    {
      "cell_type": "code",
      "source": [
        "d=np.subtract(a,b)\n",
        "print(d)"
      ],
      "metadata": {
        "colab": {
          "base_uri": "https://localhost:8080/"
        },
        "id": "8U3CZ6_vf9Ea",
        "outputId": "79aea2bc-f17b-4b02-992c-95815037be8b"
      },
      "execution_count": 40,
      "outputs": [
        {
          "output_type": "stream",
          "name": "stdout",
          "text": [
            "[[-8 -6 -4]\n",
            " [-2  0  2]\n",
            " [ 4  6  8]]\n"
          ]
        }
      ]
    },
    {
      "cell_type": "code",
      "source": [
        "c=np.multiply(a,b)\n",
        "print(c)"
      ],
      "metadata": {
        "colab": {
          "base_uri": "https://localhost:8080/"
        },
        "id": "g2TK9cSggEcp",
        "outputId": "8ba30843-f2d1-4dab-cc86-6fc2617e7fbc"
      },
      "execution_count": 41,
      "outputs": [
        {
          "output_type": "stream",
          "name": "stdout",
          "text": [
            "[[ 9 16 21]\n",
            " [24 25 24]\n",
            " [21 16  9]]\n"
          ]
        }
      ]
    },
    {
      "cell_type": "code",
      "source": [
        "d=np.divide(a,b)\n",
        "print(d)"
      ],
      "metadata": {
        "colab": {
          "base_uri": "https://localhost:8080/"
        },
        "id": "UL17RRrhgTqx",
        "outputId": "38025c55-5502-406e-fa1a-c6d1f3773447"
      },
      "execution_count": 42,
      "outputs": [
        {
          "output_type": "stream",
          "name": "stdout",
          "text": [
            "[[0.11111111 0.25       0.42857143]\n",
            " [0.66666667 1.         1.5       ]\n",
            " [2.33333333 4.         9.        ]]\n"
          ]
        }
      ]
    },
    {
      "cell_type": "code",
      "source": [
        "c=np.dot(a,b)\n",
        "print(c)"
      ],
      "metadata": {
        "colab": {
          "base_uri": "https://localhost:8080/"
        },
        "id": "Ayqb8GQMgSFK",
        "outputId": "a82b87f6-20ed-4951-e0a1-3f47a01dbf7f"
      },
      "execution_count": 43,
      "outputs": [
        {
          "output_type": "stream",
          "name": "stdout",
          "text": [
            "[[ 30  24  18]\n",
            " [ 84  69  54]\n",
            " [138 114  90]]\n"
          ]
        }
      ]
    },
    {
      "cell_type": "code",
      "source": [
        "import matplotlib.pyplot as plt"
      ],
      "metadata": {
        "id": "wTGM3q9qgmTC"
      },
      "execution_count": 44,
      "outputs": []
    },
    {
      "cell_type": "code",
      "source": [
        "from matplotlib import pyplot as plt"
      ],
      "metadata": {
        "id": "KrDU9w3Dgylx"
      },
      "execution_count": 45,
      "outputs": []
    },
    {
      "cell_type": "code",
      "source": [
        "plt.plot([1,2,3],[10,20,-10])\n",
        "plt.show()"
      ],
      "metadata": {
        "colab": {
          "base_uri": "https://localhost:8080/",
          "height": 265
        },
        "id": "q86COAnZg8dp",
        "outputId": "46127117-257d-4185-e7a6-2cc59e5c7b46"
      },
      "execution_count": 46,
      "outputs": [
        {
          "output_type": "display_data",
          "data": {
            "text/plain": [
              "<Figure size 432x288 with 1 Axes>"
            ],
            "image/png": "[encoded data removed]"
          },
          "metadata": {
            "needs_background": "light"
          }
        }
      ]
    },
    {
      "cell_type": "code",
      "source": [
        "plt.plot([4,6,10,11],[10,20,25,30])\n",
        "plt.xlabel('x-axis')\n",
        "plt.ylabel('y-axis')\n",
        "plt.title('data')\n",
        "plt.show()"
      ],
      "metadata": {
        "colab": {
          "base_uri": "https://localhost:8080/",
          "height": 295
        },
        "id": "HfUHroJmg5V6",
        "outputId": "9a606c77-4db1-4009-84d3-85acb4d4b9af"
      },
      "execution_count": 47,
      "outputs": [
        {
          "output_type": "display_data",
          "data": {
            "text/plain": [
              "<Figure size 432x288 with 1 Axes>"
            ],
            "image/png": "[encoded data removed]"
          },
          "metadata": {
            "needs_background": "light"
          }
        }
      ]
    },
    {
      "cell_type": "code",
      "source": [
        "x=np.linspace(0,2*np.pi,100)"
      ],
      "metadata": {
        "id": "jIPZPP-OhmPi"
      },
      "execution_count": 48,
      "outputs": []
    },
    {
      "cell_type": "code",
      "source": [
        "y=np.sin(x)"
      ],
      "metadata": {
        "id": "m6KyRGhBh_eh"
      },
      "execution_count": 49,
      "outputs": []
    },
    {
      "cell_type": "code",
      "source": [
        "plt.plot(x,y)\n",
        "plt.xlabel('x-axis')\n",
        "plt.ylabel('y-axis')\n",
        "plt.title('sin(x)')\n",
        "plt.show()"
      ],
      "metadata": {
        "colab": {
          "base_uri": "https://localhost:8080/",
          "height": 295
        },
        "id": "4GkD16aVh1CS",
        "outputId": "e17d18cb-a5b2-48bc-8d5f-7a04cb5cf395"
      },
      "execution_count": 50,
      "outputs": [
        {
          "output_type": "display_data",
          "data": {
            "text/plain": [
              "<Figure size 432x288 with 1 Axes>"
            ],
            "image/png": "[encoded data removed]"
          },
          "metadata": {
            "needs_background": "light"
          }
        }
      ]
    },
    {
      "cell_type": "code",
      "source": [
        "x=np.linspace(0,2*np.pi,100)"
      ],
      "metadata": {
        "id": "C2I1E5J_hgeC"
      },
      "execution_count": 51,
      "outputs": []
    },
    {
      "cell_type": "code",
      "source": [
        "y1=np.sin(x)\n",
        "y2=np.sin(x)+np.cos(x)"
      ],
      "metadata": {
        "id": "G-RWySoBiU2o"
      },
      "execution_count": 52,
      "outputs": []
    },
    {
      "cell_type": "code",
      "source": [
        "plt.plot(x,y1,x,y2)\n",
        "plt.xlabel('x-axis')\n",
        "plt.ylabel('y-axis')\n",
        "plt.title('two functions')\n",
        "plt.legend(['sin(x)','sin(x)+cos(x)'])\n",
        "plt.show()"
      ],
      "metadata": {
        "colab": {
          "base_uri": "https://localhost:8080/",
          "height": 295
        },
        "id": "LHDYPMtZicrR",
        "outputId": "270cfce1-68af-47a5-f79f-bf15b5bc8f11"
      },
      "execution_count": 53,
      "outputs": [
        {
          "output_type": "display_data",
          "data": {
            "text/plain": [
              "<Figure size 432x288 with 1 Axes>"
            ],
            "image/png": "[encoded data removed]"
          },
          "metadata": {
            "needs_background": "light"
          }
        }
      ]
    },
    {
      "cell_type": "code",
      "source": [
        "x=np.linspace(0,2*np.pi,100)\n",
        "\n",
        "y1=np.sin(x)\n",
        "y2=np.sin(x)+np.cos(x)\n",
        "\n",
        "plt.plot(x,y1,x,y2)\n",
        "\n",
        "plt.xticks([0,np.pi,2*np.pi])\n",
        "plt.yticks([-1,0,+1])\n",
        "\n",
        "plt.xlabel('x-axis')\n",
        "plt.ylabel('y-axis')\n",
        "plt.title('two functions')\n",
        "plt.legend(['sin(x)','sin(x)+cos(x)'])\n",
        "\n",
        "plt.show"
      ],
      "metadata": {
        "colab": {
          "base_uri": "https://localhost:8080/",
          "height": 313
        },
        "id": "7mjrroiZi3Yp",
        "outputId": "921c55c9-3cb6-4e0f-df8a-0e8158df69be"
      },
      "execution_count": 54,
      "outputs": [
        {
          "output_type": "execute_result",
          "data": {
            "text/plain": [
              "<function matplotlib.pyplot.show(*args, **kw)>"
            ]
          },
          "metadata": {},
          "execution_count": 54
        },
        {
          "output_type": "display_data",
          "data": {
            "text/plain": [
              "<Figure size 432x288 with 1 Axes>"
            ],
            "image/png": "[encoded data removed]"
          },
          "metadata": {
            "needs_background": "light"
          }
        }
      ]
    },
    {
      "cell_type": "code",
      "source": [
        "x=np.linspace(0,2*np.pi,10)\n",
        "\n",
        "y1=np.sin(x)\n",
        "y2=np.sin(x)+np.cos(x)\n",
        "\n",
        "plt.plot(x,y1,'ro--',x,y2,'ks-')\n",
        "\n",
        "plt.xticks([0,np.pi,2*np.pi])\n",
        "plt.yticks([-1,0,+1])\n",
        "\n",
        "plt.xlabel('x-axis')\n",
        "plt.ylabel('y-axis')\n",
        "plt.title('two functions')\n",
        "plt.legend(['sin(x)','sin(x)+cos(x)'])\n",
        "\n",
        "plt.show"
      ],
      "metadata": {
        "colab": {
          "base_uri": "https://localhost:8080/",
          "height": 313
        },
        "id": "LVMhKcnGjyA6",
        "outputId": "f45064df-5dee-42c0-cac5-db5d1fa7d6ae"
      },
      "execution_count": 55,
      "outputs": [
        {
          "output_type": "execute_result",
          "data": {
            "text/plain": [
              "<function matplotlib.pyplot.show(*args, **kw)>"
            ]
          },
          "metadata": {},
          "execution_count": 55
        },
        {
          "output_type": "display_data",
          "data": {
            "text/plain": [
              "<Figure size 432x288 with 1 Axes>"
            ],
            "image/png": "[encoded data removed]"
          },
          "metadata": {
            "needs_background": "light"
          }
        }
      ]
    },
    {
      "cell_type": "code",
      "source": [
        "x=np.linspace(1,6,6)\n",
        "y=np.array([10,8,4,9,5,2])\n",
        "\n",
        "plt.bar(x,y)\n",
        "plt.xlabel('x-axis')\n",
        "plt.ylabel('y-axis')\n",
        "plt.title('bar example')\n",
        "plt.show"
      ],
      "metadata": {
        "colab": {
          "base_uri": "https://localhost:8080/",
          "height": 313
        },
        "id": "bpfIFsYpkDyp",
        "outputId": "24af0dbe-72c7-43eb-f35a-27b669d52a7b"
      },
      "execution_count": 56,
      "outputs": [
        {
          "output_type": "execute_result",
          "data": {
            "text/plain": [
              "<function matplotlib.pyplot.show(*args, **kw)>"
            ]
          },
          "metadata": {},
          "execution_count": 56
        },
        {
          "output_type": "display_data",
          "data": {
            "text/plain": [
              "<Figure size 432x288 with 1 Axes>"
            ],
            "image/png": "[encoded data removed]"
          },
          "metadata": {
            "needs_background": "light"
          }
        }
      ]
    },
    {
      "cell_type": "code",
      "source": [
        "import math"
      ],
      "metadata": {
        "id": "exLDgCvNj8TQ"
      },
      "execution_count": 57,
      "outputs": []
    },
    {
      "cell_type": "code",
      "source": [
        "math.pi"
      ],
      "metadata": {
        "colab": {
          "base_uri": "https://localhost:8080/"
        },
        "id": "TH80qemYkhYA",
        "outputId": "17f5ca2a-dcf6-469a-e388-346be2c82406"
      },
      "execution_count": 58,
      "outputs": [
        {
          "output_type": "execute_result",
          "data": {
            "text/plain": [
              "3.141592653589793"
            ]
          },
          "metadata": {},
          "execution_count": 58
        }
      ]
    },
    {
      "cell_type": "code",
      "source": [
        "math.e"
      ],
      "metadata": {
        "colab": {
          "base_uri": "https://localhost:8080/"
        },
        "id": "d3NSi0wwkj7B",
        "outputId": "6014b05e-ca82-435b-9742-65fd790bd8cb"
      },
      "execution_count": 59,
      "outputs": [
        {
          "output_type": "execute_result",
          "data": {
            "text/plain": [
              "2.718281828459045"
            ]
          },
          "metadata": {},
          "execution_count": 59
        }
      ]
    },
    {
      "cell_type": "code",
      "source": [
        "math.factorial(6)"
      ],
      "metadata": {
        "colab": {
          "base_uri": "https://localhost:8080/"
        },
        "id": "gg65mXxWklJB",
        "outputId": "ec1a14f8-c7c0-461e-973b-2703bad73191"
      },
      "execution_count": 60,
      "outputs": [
        {
          "output_type": "execute_result",
          "data": {
            "text/plain": [
              "720"
            ]
          },
          "metadata": {},
          "execution_count": 60
        }
      ]
    },
    {
      "cell_type": "code",
      "source": [
        "math.pow(2,3)"
      ],
      "metadata": {
        "colab": {
          "base_uri": "https://localhost:8080/"
        },
        "id": "Jk-Cbsy8kqtI",
        "outputId": "51e4fe59-c344-44a7-9ab5-8e0b2b6ba7bb"
      },
      "execution_count": 61,
      "outputs": [
        {
          "output_type": "execute_result",
          "data": {
            "text/plain": [
              "8.0"
            ]
          },
          "metadata": {},
          "execution_count": 61
        }
      ]
    },
    {
      "cell_type": "code",
      "source": [
        "math.log(2)"
      ],
      "metadata": {
        "colab": {
          "base_uri": "https://localhost:8080/"
        },
        "id": "-xnelmjWkw36",
        "outputId": "d988c91c-688e-445c-f4df-1d574163c80b"
      },
      "execution_count": 62,
      "outputs": [
        {
          "output_type": "execute_result",
          "data": {
            "text/plain": [
              "0.6931471805599453"
            ]
          },
          "metadata": {},
          "execution_count": 62
        }
      ]
    },
    {
      "cell_type": "code",
      "source": [
        "math.log(4,2)"
      ],
      "metadata": {
        "colab": {
          "base_uri": "https://localhost:8080/"
        },
        "id": "azG5sdKQkz95",
        "outputId": "4c78feff-3be4-4a8c-bb8c-ba4451a1bf99"
      },
      "execution_count": 63,
      "outputs": [
        {
          "output_type": "execute_result",
          "data": {
            "text/plain": [
              "2.0"
            ]
          },
          "metadata": {},
          "execution_count": 63
        }
      ]
    },
    {
      "cell_type": "code",
      "source": [
        "math.log10(100)"
      ],
      "metadata": {
        "colab": {
          "base_uri": "https://localhost:8080/"
        },
        "id": "WBtBwkmfk23J",
        "outputId": "258003bf-f3b1-46c6-dbd3-b4ef650ddbee"
      },
      "execution_count": 64,
      "outputs": [
        {
          "output_type": "execute_result",
          "data": {
            "text/plain": [
              "2.0"
            ]
          },
          "metadata": {},
          "execution_count": 64
        }
      ]
    },
    {
      "cell_type": "code",
      "source": [
        "def func(n):\n",
        "  lv=n=1\n",
        "  print(lv)\n",
        "func(12)"
      ],
      "metadata": {
        "colab": {
          "base_uri": "https://localhost:8080/"
        },
        "id": "Gzku0nfn4MRB",
        "outputId": "58ff4018-9202-4526-cd26-294d2fb4583e"
      },
      "execution_count": 65,
      "outputs": [
        {
          "output_type": "stream",
          "name": "stdout",
          "text": [
            "1\n"
          ]
        }
      ]
    },
    {
      "cell_type": "code",
      "source": [
        "#print(lv)"
      ],
      "metadata": {
        "id": "1nAsNI2K49Eg"
      },
      "execution_count": 66,
      "outputs": []
    },
    {
      "cell_type": "code",
      "source": [
        "n=10\n",
        "\n",
        "def func2():\n",
        "  lv=n+1\n",
        "  print(lv)\n",
        "func2()"
      ],
      "metadata": {
        "colab": {
          "base_uri": "https://localhost:8080/"
        },
        "id": "m65t-xCt5Ck_",
        "outputId": "cd831ff4-d3da-480f-d6a3-4d6046ade77f"
      },
      "execution_count": 67,
      "outputs": [
        {
          "output_type": "stream",
          "name": "stdout",
          "text": [
            "11\n"
          ]
        }
      ]
    },
    {
      "cell_type": "code",
      "source": [
        "n=10\n",
        "\n",
        "def func2():\n",
        "  n=0\n",
        "  lv=n+1\n",
        "  print(lv)\n",
        "func2()\n"
      ],
      "metadata": {
        "colab": {
          "base_uri": "https://localhost:8080/"
        },
        "id": "r0_qZx185pOB",
        "outputId": "7ec629b2-9469-49da-b247-4dba5a554ccd"
      },
      "execution_count": 68,
      "outputs": [
        {
          "output_type": "stream",
          "name": "stdout",
          "text": [
            "1\n"
          ]
        }
      ]
    },
    {
      "cell_type": "code",
      "source": [
        "print(n)"
      ],
      "metadata": {
        "colab": {
          "base_uri": "https://localhost:8080/"
        },
        "id": "qpmnO2-L52x4",
        "outputId": "cb1f8a87-cba0-4e35-d515-ecb0a72a4395"
      },
      "execution_count": 69,
      "outputs": [
        {
          "output_type": "stream",
          "name": "stdout",
          "text": [
            "10\n"
          ]
        }
      ]
    },
    {
      "cell_type": "code",
      "source": [
        "n=10\n",
        "\n",
        "def func2():\n",
        "  global n\n",
        "  n=0\n",
        "  lv=n+1\n",
        "  print(lv)\n",
        "func2()"
      ],
      "metadata": {
        "colab": {
          "base_uri": "https://localhost:8080/"
        },
        "id": "j8Urn1lF54tg",
        "outputId": "b4f78e46-0441-4e45-85b3-e741f0f9e4bc"
      },
      "execution_count": 70,
      "outputs": [
        {
          "output_type": "stream",
          "name": "stdout",
          "text": [
            "1\n"
          ]
        }
      ]
    },
    {
      "cell_type": "code",
      "source": [
        "print(n)"
      ],
      "metadata": {
        "colab": {
          "base_uri": "https://localhost:8080/"
        },
        "id": "bCelrnBH6FC4",
        "outputId": "18afb98f-68cb-4db2-c393-94c44a6d0188"
      },
      "execution_count": 71,
      "outputs": [
        {
          "output_type": "stream",
          "name": "stdout",
          "text": [
            "0\n"
          ]
        }
      ]
    },
    {
      "cell_type": "code",
      "source": [
        "fa_age=39\n",
        "def up_fa_age():\n",
        "  global fa_age\n",
        "  fa_age +=1\n",
        "def get_fa_age():\n",
        "  return fa_age\n",
        "\n",
        "print(\"2019년\") \n",
        "print(\"아빠:\",get_fa_age())\n",
        "print(\"2020년\")\n",
        "up_fa_age()\n",
        "print(\"아빠:\",get_fa_age())"
      ],
      "metadata": {
        "colab": {
          "base_uri": "https://localhost:8080/"
        },
        "id": "yK-16QD66G2I",
        "outputId": "5daace7e-4371-4853-a675-dcdf2e0af59b"
      },
      "execution_count": 72,
      "outputs": [
        {
          "output_type": "stream",
          "name": "stdout",
          "text": [
            "2019년\n",
            "아빠: 39\n",
            "2020년\n",
            "아빠: 40\n"
          ]
        }
      ]
    },
    {
      "cell_type": "code",
      "source": [
        "class ageinfo:\n",
        "  def up_age(self):\n",
        "    self.age+=1\n",
        "  def get_age(self):\n",
        "    return self.age"
      ],
      "metadata": {
        "id": "A4CpFdE062oY"
      },
      "execution_count": 73,
      "outputs": []
    },
    {
      "cell_type": "code",
      "source": [
        "fa=ageinfo()\n",
        "fa.age=39\n",
        "\n",
        "print(\"아빠의 나이:\", fa.get_age())\n",
        "\n",
        "print(\"1년 뒤...\")\n",
        "fa.up_age()\n",
        "print(\"아빠의 나이:\", fa.get_age())"
      ],
      "metadata": {
        "colab": {
          "base_uri": "https://localhost:8080/"
        },
        "id": "AQmwuNB97yfv",
        "outputId": "b331e219-3b18-4a9c-9bd0-592a5dacbc9c"
      },
      "execution_count": 74,
      "outputs": [
        {
          "output_type": "stream",
          "name": "stdout",
          "text": [
            "아빠의 나이: 39\n",
            "1년 뒤...\n",
            "아빠의 나이: 40\n"
          ]
        }
      ]
    },
    {
      "cell_type": "code",
      "source": [
        "fa=ageinfo()\n",
        "ma=ageinfo()\n",
        "me=ageinfo()\n",
        "\n",
        "fa.age=50\n",
        "ma.age=49\n",
        "me.age=24\n",
        "\n",
        "print(\"아빠의 나이:\", fa.get_age())\n",
        "print(\"엄마의 나이:\", ma.get_age())\n",
        "print(\"나의 나이:\", me.get_age())\n",
        "print(\"1년 뒤...\")\n",
        "fa.up_age()\n",
        "ma.up_age()\n",
        "me.up_age()\n",
        "print(\"아빠의 나이:\", fa.get_age())\n",
        "print(\"엄마의 나이:\", ma.get_age())\n",
        "print(\"나의 나이:\", me.get_age())"
      ],
      "metadata": {
        "colab": {
          "base_uri": "https://localhost:8080/"
        },
        "id": "ODAD3SA08Rs4",
        "outputId": "36120fc3-87e7-483f-921e-57786ee295b2"
      },
      "execution_count": 75,
      "outputs": [
        {
          "output_type": "stream",
          "name": "stdout",
          "text": [
            "아빠의 나이: 50\n",
            "엄마의 나이: 49\n",
            "나의 나이: 24\n",
            "1년 뒤...\n",
            "아빠의 나이: 51\n",
            "엄마의 나이: 50\n",
            "나의 나이: 25\n"
          ]
        }
      ]
    },
    {
      "cell_type": "code",
      "source": [
        "import math\n",
        "import matplotlib.pyplot as plt\n",
        "class sin_graph:\n",
        "  def generate_x_y(self):\n",
        "    self.x=[]\n",
        "    self.y=[]\n",
        "    self.dx=(self.end-self.st)/(self.n-1)\n",
        "    for i in range(self.n):\n",
        "      x_=self.st+self.dx*i\n",
        "      self.x.append(x_)\n",
        "      self.y.append(math.sin(x_))\n",
        "  \n",
        "  def plot(self):\n",
        "     plt.plot(self.x,self.y)\n",
        "     plt.show()   \n"
      ],
      "metadata": {
        "id": "h6HkD3ev9CKw"
      },
      "execution_count": 76,
      "outputs": []
    },
    {
      "cell_type": "code",
      "source": [
        "g1=sin_graph()\n",
        "g1.st=0\n",
        "g1.end=2*math.pi\n",
        "g1.n=10\n",
        "\n",
        "g1.generate_x_y()\n",
        "g1.plot()"
      ],
      "metadata": {
        "colab": {
          "base_uri": "https://localhost:8080/",
          "height": 265
        },
        "id": "wSplxDwz-5Ln",
        "outputId": "7e751579-b01b-470c-e18a-1597922eda6e"
      },
      "execution_count": 77,
      "outputs": [
        {
          "output_type": "display_data",
          "data": {
            "text/plain": [
              "<Figure size 432x288 with 1 Axes>"
            ],
            "image/png": "[encoded data removed]"
          },
          "metadata": {
            "needs_background": "light"
          }
        }
      ]
    },
    {
      "cell_type": "code",
      "source": [
        "class sin_graph:\n",
        "  def setting(self, st, ed, n):\n",
        "    self.st=st\n",
        "    self.ed=ed\n",
        "    self.n=n\n",
        "  def generate_x_y(self):\n",
        "    self.x=[]\n",
        "    self.y=[]\n",
        "    self.dx=(self.ed-self.st)/(self.n-1)\n",
        "    for i in range(self.n):\n",
        "      x_=self.st + self.dx*i\n",
        "      self.x.append(x_)\n",
        "      self.y.append(math.sin(x_))\n",
        "  def plot(self):\n",
        "    plt.plot(self.x,self.y)\n",
        "    plt.show()"
      ],
      "metadata": {
        "id": "q_0uZihr0fmI"
      },
      "execution_count": 78,
      "outputs": []
    },
    {
      "cell_type": "code",
      "source": [
        "g1=sin_graph()\n",
        "g1.setting(0,2*math.pi, 100)\n",
        "g1.generate_x_y()\n",
        "g1.plot()"
      ],
      "metadata": {
        "colab": {
          "base_uri": "https://localhost:8080/",
          "height": 265
        },
        "id": "eK7sTCSl0h3I",
        "outputId": "0b9cb9e3-332c-43a3-e62b-eef0f80626c1"
      },
      "execution_count": 79,
      "outputs": [
        {
          "output_type": "display_data",
          "data": {
            "text/plain": [
              "<Figure size 432x288 with 1 Axes>"
            ],
            "image/png": "[encoded data removed]"
          },
          "metadata": {
            "needs_background": "light"
          }
        }
      ]
    },
    {
      "cell_type": "code",
      "source": [
        "g2=sin_graph()\n",
        "g2.setting(0,4*math.pi, 100)\n",
        "g2.generate_x_y()\n",
        "g2.plot()"
      ],
      "metadata": {
        "colab": {
          "base_uri": "https://localhost:8080/",
          "height": 265
        },
        "id": "6rYUc-eJ0jrw",
        "outputId": "466ef19b-617f-46b9-a650-8e006a62a9c3"
      },
      "execution_count": 80,
      "outputs": [
        {
          "output_type": "display_data",
          "data": {
            "text/plain": [
              "<Figure size 432x288 with 1 Axes>"
            ],
            "image/png": "[encoded data removed]"
          },
          "metadata": {
            "needs_background": "light"
          }
        }
      ]
    },
    {
      "cell_type": "code",
      "source": [
        "class const:\n",
        "  def __init__(self):\n",
        "    print(\"new~\")\n",
        "\n",
        "o1 = const()\n",
        "o2 = const()"
      ],
      "metadata": {
        "colab": {
          "base_uri": "https://localhost:8080/"
        },
        "id": "-aF349TA0ldP",
        "outputId": "d49a9cc1-f95a-4520-a414-c228ea52a5cf"
      },
      "execution_count": 81,
      "outputs": [
        {
          "output_type": "stream",
          "name": "stdout",
          "text": [
            "new~\n",
            "new~\n"
          ]
        }
      ]
    },
    {
      "cell_type": "code",
      "source": [
        "class const:\n",
        "  def __init__(self,n1,n2):\n",
        "    self.n1 = n1\n",
        "    self.n2 = n2\n",
        "  def show_data(self):\n",
        "    print(self.n1, self.n2)\n",
        "\n",
        "o1 = const(1,2)\n",
        "o2 = const(3,4)"
      ],
      "metadata": {
        "id": "qjKErzPR0oQn"
      },
      "execution_count": 82,
      "outputs": []
    },
    {
      "cell_type": "code",
      "source": [
        "o1.show_data()\n",
        "o2.show_data()"
      ],
      "metadata": {
        "colab": {
          "base_uri": "https://localhost:8080/"
        },
        "id": "FkRQFVyW0qC3",
        "outputId": "f5e135de-4ad8-41ea-ad05-f006de6cbc2d"
      },
      "execution_count": 92,
      "outputs": [
        {
          "output_type": "stream",
          "name": "stdout",
          "text": [
            "1 2\n",
            "3 4\n"
          ]
        }
      ]
    },
    {
      "cell_type": "code",
      "source": [
        "\n"
      ],
      "metadata": {
        "id": "q0RQ8hx20sbv"
      },
      "execution_count": 102,
      "outputs": []
    },
    {
      "cell_type": "code",
      "source": [
        "class text_static:\n",
        "  def processLine(self,line,wordCounts):\n",
        "    line=self.replacepunctuations(line)\n",
        "    words=line.split()\n",
        "    for word in words:\n",
        "      if word in wordCounts:\n",
        "        wordCounts[word] +=1\n",
        "      else:\n",
        "        wordCounts[word]=1\n",
        "  def replacePunctuations(self,line):\n",
        "    for ch in line:\n",
        "      if ch in \",.;:\":\n",
        "        line=line.replace(ch,\"\")\n",
        "\n",
        "    return line\n",
        "  def wordCount(self,filename):\n",
        "    f=open(\"I_have_a_dream.txt\",\"r\")\n",
        "    lines=f. readlines()\n",
        "    wordCounts={}\n",
        "    for line in lines:\n",
        "      self.processLine(line.lower(),wordCounts)\n",
        "\n",
        "      return wordCounts\n",
        "  def arrange_pairs(self,wordCounts):\n",
        "    pairs=list(wordCounts.items())\n",
        "    items=[[x,y]for(x,y)in pairs]\n",
        "    items.sort()\n",
        "    items={x:y for [y,x]in items}\n",
        "    return items"
      ],
      "metadata": {
        "id": "JErUW5342I-4"
      },
      "execution_count": 96,
      "outputs": []
    },
    {
      "cell_type": "code",
      "source": [
        "T=text_static()"
      ],
      "metadata": {
        "id": "Wiez99bF0t9P"
      },
      "execution_count": 97,
      "outputs": []
    },
    {
      "cell_type": "code",
      "source": [
        "fn=\"I_have_a_dream.txt\""
      ],
      "metadata": {
        "id": "tWwCDscv0vZv"
      },
      "execution_count": 101,
      "outputs": []
    },
    {
      "cell_type": "code",
      "source": [
        "wordCounts=T.wordCount(fn)"
      ],
      "metadata": {
        "colab": {
          "base_uri": "https://localhost:8080/",
          "height": 303
        },
        "id": "y5wHexe_0wv_",
        "outputId": "dda22c08-2850-48cb-aecf-05edb2598ce1"
      },
      "execution_count": 102,
      "outputs": [
        {
          "output_type": "error",
          "ename": "FileNotFoundError",
          "evalue": "ignored",
          "traceback": [
            "\u001b[0;31m---------------------------------------------------------------------------\u001b[0m",
            "\u001b[0;31mFileNotFoundError\u001b[0m                         Traceback (most recent call last)",
            "\u001b[0;32m<ipython-input-102-a60db704477b>\u001b[0m in \u001b[0;36m<module>\u001b[0;34m\u001b[0m\n\u001b[0;32m----> 1\u001b[0;31m \u001b[0mwordCounts\u001b[0m\u001b[0;34m=\u001b[0m\u001b[0mT\u001b[0m\u001b[0;34m.\u001b[0m\u001b[0mwordCount\u001b[0m\u001b[0;34m(\u001b[0m\u001b[0mfn\u001b[0m\u001b[0;34m)\u001b[0m\u001b[0;34m\u001b[0m\u001b[0;34m\u001b[0m\u001b[0m\n\u001b[0m",
            "\u001b[0;32m<ipython-input-96-c7d37079058a>\u001b[0m in \u001b[0;36mwordCount\u001b[0;34m(self, filename)\u001b[0m\n\u001b[1;32m     15\u001b[0m     \u001b[0;32mreturn\u001b[0m \u001b[0mline\u001b[0m\u001b[0;34m\u001b[0m\u001b[0;34m\u001b[0m\u001b[0m\n\u001b[1;32m     16\u001b[0m   \u001b[0;32mdef\u001b[0m \u001b[0mwordCount\u001b[0m\u001b[0;34m(\u001b[0m\u001b[0mself\u001b[0m\u001b[0;34m,\u001b[0m\u001b[0mfilename\u001b[0m\u001b[0;34m)\u001b[0m\u001b[0;34m:\u001b[0m\u001b[0;34m\u001b[0m\u001b[0;34m\u001b[0m\u001b[0m\n\u001b[0;32m---> 17\u001b[0;31m     \u001b[0mf\u001b[0m\u001b[0;34m=\u001b[0m\u001b[0mopen\u001b[0m\u001b[0;34m(\u001b[0m\u001b[0;34m\"I_have_a_dream.txt\"\u001b[0m\u001b[0;34m,\u001b[0m\u001b[0;34m\"r\"\u001b[0m\u001b[0;34m)\u001b[0m\u001b[0;34m\u001b[0m\u001b[0;34m\u001b[0m\u001b[0m\n\u001b[0m\u001b[1;32m     18\u001b[0m     \u001b[0mlines\u001b[0m\u001b[0;34m=\u001b[0m\u001b[0mf\u001b[0m\u001b[0;34m.\u001b[0m \u001b[0mreadlines\u001b[0m\u001b[0;34m(\u001b[0m\u001b[0;34m)\u001b[0m\u001b[0;34m\u001b[0m\u001b[0;34m\u001b[0m\u001b[0m\n\u001b[1;32m     19\u001b[0m     \u001b[0mwordCounts\u001b[0m\u001b[0;34m=\u001b[0m\u001b[0;34m{\u001b[0m\u001b[0;34m}\u001b[0m\u001b[0;34m\u001b[0m\u001b[0;34m\u001b[0m\u001b[0m\n",
            "\u001b[0;31mFileNotFoundError\u001b[0m: [Errno 2] No such file or directory: 'I_have_a_dream.txt'"
          ]
        }
      ]
    },
    {
      "cell_type": "code",
      "source": [],
      "metadata": {
        "id": "WtpE57Ee0yd_"
      },
      "execution_count": null,
      "outputs": []
    },
    {
      "cell_type": "code",
      "source": [],
      "metadata": {
        "id": "dlTVD8AR0z6H"
      },
      "execution_count": null,
      "outputs": []
    }
  ]
}